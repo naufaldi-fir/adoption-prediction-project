{
 "cells": [
  {
   "cell_type": "markdown",
   "metadata": {},
   "source": [
    "## Naufaldi Homework for Week 24 Meeting\n",
    "Exploration on Age, Gender, Maturity Size, FurLength and Quantity"
   ]
  },
  {
   "cell_type": "code",
   "execution_count": 40,
   "metadata": {},
   "outputs": [],
   "source": [
    "#import package\n",
    "import pandas as pd\n",
    "import matplotlib.pyplot as plt\n",
    "import seaborn as sns"
   ]
  },
  {
   "cell_type": "code",
   "execution_count": 41,
   "metadata": {},
   "outputs": [],
   "source": [
    "df = pd.read_csv(\"train.csv\")"
   ]
  },
  {
   "cell_type": "code",
   "execution_count": 42,
   "metadata": {},
   "outputs": [
    {
     "name": "stdout",
     "output_type": "stream",
     "text": [
      "   Type                     Name  Age  Breed1  Breed2  Gender  Color1  Color2  \\\n",
      "0     2                   Nibble    3     299       0       1       1       7   \n",
      "1     2              No Name Yet    1     265       0       1       1       2   \n",
      "2     1                   Brisco    1     307       0       1       2       7   \n",
      "3     1                     Miko    4     307       0       2       1       2   \n",
      "4     1                   Hunter    1     307       0       1       1       0   \n",
      "5     2                      NaN    3     266       0       2       5       6   \n",
      "6     2                    BULAT   12     264     264       1       1       0   \n",
      "7     1  Siu Pak & Her 6 Puppies    0     307       0       2       1       2   \n",
      "8     2                      NaN    2     265       0       2       6       0   \n",
      "9     2                    Kitty   12     265       0       2       1       7   \n",
      "\n",
      "   Color3  MaturitySize  ...  Health  Quantity  Fee  State  \\\n",
      "0       0             1  ...       1         1  100  41326   \n",
      "1       0             2  ...       1         1    0  41401   \n",
      "2       0             2  ...       1         1    0  41326   \n",
      "3       0             2  ...       1         1  150  41401   \n",
      "4       0             2  ...       1         1    0  41326   \n",
      "5       0             2  ...       1         1    0  41326   \n",
      "6       0             2  ...       1         1  300  41326   \n",
      "7       7             2  ...       1         6    0  41326   \n",
      "8       0             2  ...       1         1    0  41326   \n",
      "9       0             2  ...       1         1    0  41326   \n",
      "\n",
      "                          RescuerID  VideoAmt  \\\n",
      "0  8480853f516546f6cf33aa88cd76c379         0   \n",
      "1  3082c7125d8fb66f7dd4bff4192c8b14         0   \n",
      "2  fa90fa5b1ee11c86938398b60abc32cb         0   \n",
      "3  9238e4f44c71a75282e62f7136c6b240         0   \n",
      "4  95481e953f8aed9ec3d16fc4509537e8         0   \n",
      "5  22fe332bf9c924d4718005891c63fbed         0   \n",
      "6  1e0b5a458b5b77f5af581d57ebf570b3         0   \n",
      "7  1fba5f6e5480946254590d48f9c5198d         0   \n",
      "8  d8af7afece71334473575c9f70daf00d         0   \n",
      "9  1f3f36e4b18e94855b3e88af0852fdc4         0   \n",
      "\n",
      "                                         Description      PetID PhotoAmt  \\\n",
      "0  Nibble is a 3+ month old ball of cuteness. He ...  86e1089a3      1.0   \n",
      "1  I just found it alone yesterday near my apartm...  6296e909a      2.0   \n",
      "2  Their pregnant mother was dumped by her irresp...  3422e4906      7.0   \n",
      "3  Good guard dog, very alert, active, obedience ...  5842f1ff5      8.0   \n",
      "4  This handsome yet cute boy is up for adoption....  850a43f90      3.0   \n",
      "5  This is a stray kitten that came to my house. ...  d24c30b4b      2.0   \n",
      "6  anyone within the area of ipoh or taiping who ...  1caa6fcdb      3.0   \n",
      "7  Siu Pak just give birth on 13/6/10 to 6puppies...  97aa9eeac      9.0   \n",
      "8  healthy and active, feisty kitten found in nei...  c06d167ca      6.0   \n",
      "9  Very manja and gentle stray cat found, we woul...  7a0942d61      2.0   \n",
      "\n",
      "   AdoptionSpeed  \n",
      "0              2  \n",
      "1              0  \n",
      "2              3  \n",
      "3              2  \n",
      "4              2  \n",
      "5              2  \n",
      "6              1  \n",
      "7              3  \n",
      "8              1  \n",
      "9              4  \n",
      "\n",
      "[10 rows x 24 columns]\n"
     ]
    }
   ],
   "source": [
    "print(df.head(10))"
   ]
  },
  {
   "cell_type": "code",
   "execution_count": 43,
   "metadata": {},
   "outputs": [
    {
     "name": "stdout",
     "output_type": "stream",
     "text": [
      "<class 'pandas.core.frame.DataFrame'>\n",
      "RangeIndex: 14993 entries, 0 to 14992\n",
      "Data columns (total 24 columns):\n",
      " #   Column         Non-Null Count  Dtype  \n",
      "---  ------         --------------  -----  \n",
      " 0   Type           14993 non-null  int64  \n",
      " 1   Name           13736 non-null  object \n",
      " 2   Age            14993 non-null  int64  \n",
      " 3   Breed1         14993 non-null  int64  \n",
      " 4   Breed2         14993 non-null  int64  \n",
      " 5   Gender         14993 non-null  int64  \n",
      " 6   Color1         14993 non-null  int64  \n",
      " 7   Color2         14993 non-null  int64  \n",
      " 8   Color3         14993 non-null  int64  \n",
      " 9   MaturitySize   14993 non-null  int64  \n",
      " 10  FurLength      14993 non-null  int64  \n",
      " 11  Vaccinated     14993 non-null  int64  \n",
      " 12  Dewormed       14993 non-null  int64  \n",
      " 13  Sterilized     14993 non-null  int64  \n",
      " 14  Health         14993 non-null  int64  \n",
      " 15  Quantity       14993 non-null  int64  \n",
      " 16  Fee            14993 non-null  int64  \n",
      " 17  State          14993 non-null  int64  \n",
      " 18  RescuerID      14993 non-null  object \n",
      " 19  VideoAmt       14993 non-null  int64  \n",
      " 20  Description    14981 non-null  object \n",
      " 21  PetID          14993 non-null  object \n",
      " 22  PhotoAmt       14993 non-null  float64\n",
      " 23  AdoptionSpeed  14993 non-null  int64  \n",
      "dtypes: float64(1), int64(19), object(4)\n",
      "memory usage: 2.7+ MB\n"
     ]
    }
   ],
   "source": [
    "df.info()"
   ]
  },
  {
   "cell_type": "markdown",
   "metadata": {},
   "source": [
    "general_insight_1: name and description columns have less non-null count."
   ]
  },
  {
   "cell_type": "markdown",
   "metadata": {},
   "source": [
    "faizan insight 05/06/21 from his notebook"
   ]
  },
  {
   "cell_type": "markdown",
   "metadata": {},
   "source": [
    "Insight_1: There are 14993 (around 15k animals in the dataset)\n",
    "Insight_2: There are less names and descriptions (13736 and 14981 respectively) than the number of animals which implies that not all animals have a name\n",
    "Insight_3: For majority of the animals, there was no adoption after 100 days of being listed.\n",
    "Insight_4: There are more number of dogs than cats in the dataset\n",
    "Insight_5: Majority of the animals are healthy"
   ]
  },
  {
   "cell_type": "markdown",
   "metadata": {},
   "source": [
    "### Age "
   ]
  },
  {
   "cell_type": "code",
   "execution_count": 44,
   "metadata": {},
   "outputs": [],
   "source": [
    "# Age distribution attribute mit box plot. Age in months\n",
    "# df.plot(kind = \"box\", y = \"Age\")"
   ]
  },
  {
   "cell_type": "markdown",
   "metadata": {},
   "source": [
    "plotting with box plot doesn't show clear picture about distribution"
   ]
  },
  {
   "cell_type": "code",
   "execution_count": 45,
   "metadata": {},
   "outputs": [
    {
     "data": {
      "text/plain": [
       "<AxesSubplot:xlabel='Age'>"
      ]
     },
     "execution_count": 45,
     "metadata": {},
     "output_type": "execute_result"
    },
    {
     "data": {
      "image/png": "[encoded data removed]",
      "text/plain": [
       "<Figure size 432x288 with 1 Axes>"
      ]
     },
     "metadata": {
      "needs_background": "light"
     },
     "output_type": "display_data"
    }
   ],
   "source": [
    "# Age distribution with violin plot\n",
    "sns.violinplot(data = df, x = \"Age\", orient = \"h\", xlabel = \"test\")"
   ]
  },
  {
   "cell_type": "code",
   "execution_count": 46,
   "metadata": {},
   "outputs": [
    {
     "data": {
      "text/plain": [
       "count    14993.000000\n",
       "mean        10.452078\n",
       "std         18.155790\n",
       "min          0.000000\n",
       "25%          2.000000\n",
       "50%          3.000000\n",
       "75%         12.000000\n",
       "max        255.000000\n",
       "Name: Age, dtype: float64"
      ]
     },
     "execution_count": 46,
     "metadata": {},
     "output_type": "execute_result"
    }
   ],
   "source": [
    "df.Age.describe()"
   ]
  },
  {
   "cell_type": "markdown",
   "metadata": {},
   "source": [
    "Age_insight_1: 50% of pet is under 3 months, and 75% under 12 months."
   ]
  },
  {
   "cell_type": "code",
   "execution_count": 47,
   "metadata": {},
   "outputs": [
    {
     "data": {
      "text/plain": [
       "<AxesSubplot:xlabel='Age'>"
      ]
     },
     "execution_count": 47,
     "metadata": {},
     "output_type": "execute_result"
    },
    {
     "data": {
      "image/png": "[encoded data removed]",
      "text/plain": [
       "<Figure size 432x288 with 1 Axes>"
      ]
     },
     "metadata": {
      "needs_background": "light"
     },
     "output_type": "display_data"
    }
   ],
   "source": [
    "#Age distribution under 50 months\n",
    "sns.violinplot(data = df[(df.Age < 50)],x = \"Age\", orient = \"h\")"
   ]
  },
  {
   "cell_type": "markdown",
   "metadata": {},
   "source": [
    "### Gender"
   ]
  },
  {
   "cell_type": "code",
   "execution_count": 60,
   "metadata": {},
   "outputs": [
    {
     "name": "stdout",
     "output_type": "stream",
     "text": [
      "Gender\n",
      "1    5536\n",
      "2    7277\n",
      "3    2180\n",
      "Name: Gender, dtype: int64\n"
     ]
    },
    {
     "data": {
      "image/png": "[encoded data removed]",
      "text/plain": [
       "<Figure size 432x288 with 1 Axes>"
      ]
     },
     "metadata": {},
     "output_type": "display_data"
    }
   ],
   "source": [
    "pie_gender = df.groupby(\"Gender\")[\"Gender\"].count()\n",
    "pie_gender.plot.pie()\n",
    "print(pie_gender)"
   ]
  },
  {
   "cell_type": "markdown",
   "metadata": {},
   "source": [
    "1: Male, 2: female, 3: Mixed"
   ]
  },
  {
   "cell_type": "markdown",
   "metadata": {},
   "source": [
    "Gender_Insight_1 : Majority of pets are female (2)"
   ]
  },
  {
   "cell_type": "markdown",
   "metadata": {},
   "source": [
    "### Maturity size"
   ]
  },
  {
   "cell_type": "code",
   "execution_count": 58,
   "metadata": {},
   "outputs": [
    {
     "name": "stdout",
     "output_type": "stream",
     "text": [
      "MaturitySize\n",
      "1     3395\n",
      "2    10305\n",
      "3     1260\n",
      "4       33\n",
      "Name: MaturitySize, dtype: int64\n"
     ]
    },
    {
     "data": {
      "image/png": "[encoded data removed]",
      "text/plain": [
       "<Figure size 432x288 with 1 Axes>"
      ]
     },
     "metadata": {},
     "output_type": "display_data"
    }
   ],
   "source": [
    "pie_size = df.groupby(\"MaturitySize\")[\"MaturitySize\"].count()\n",
    "print(pie_size)\n",
    "pie_size.plot.pie();"
   ]
  },
  {
   "cell_type": "markdown",
   "metadata": {},
   "source": [
    "1 = Small, 2 = Medium, 3 = Large, 4 = Extra Large, 0 = Not Specified"
   ]
  },
  {
   "cell_type": "markdown",
   "metadata": {},
   "source": [
    "Size_insight_1: Majority are in medium size"
   ]
  },
  {
   "cell_type": "markdown",
   "metadata": {},
   "source": [
    "### Fur Length"
   ]
  },
  {
   "cell_type": "code",
   "execution_count": 50,
   "metadata": {},
   "outputs": [
    {
     "name": "stdout",
     "output_type": "stream",
     "text": [
      "FurLength\n",
      "1    8808\n",
      "2    5361\n",
      "3     824\n",
      "Name: FurLength, dtype: int64\n"
     ]
    },
    {
     "data": {
      "image/png": "[encoded data removed]",
      "text/plain": [
       "<Figure size 432x288 with 1 Axes>"
      ]
     },
     "metadata": {},
     "output_type": "display_data"
    }
   ],
   "source": [
    "pie_group = df.groupby(\"FurLength\")[\"FurLength\"].count()\n",
    "print(pie_group)\n",
    "pie_group.plot.pie();"
   ]
  },
  {
   "cell_type": "markdown",
   "metadata": {},
   "source": [
    "1 = Short, 2 = Medium, 3 = Long, 0 = Not Specified"
   ]
  },
  {
   "cell_type": "markdown",
   "metadata": {},
   "source": [
    "FurLength_insight_1: Majority has short fur"
   ]
  },
  {
   "cell_type": "markdown",
   "metadata": {},
   "source": [
    "### Quantity"
   ]
  },
  {
   "cell_type": "code",
   "execution_count": 64,
   "metadata": {},
   "outputs": [
    {
     "name": "stdout",
     "output_type": "stream",
     "text": [
      "Quantity\n",
      "1     11565\n",
      "2      1422\n",
      "3       726\n",
      "4       531\n",
      "5       333\n",
      "6       185\n",
      "7        84\n",
      "8        52\n",
      "9        33\n",
      "10       19\n",
      "11       10\n",
      "12        6\n",
      "13        2\n",
      "14        2\n",
      "15        4\n",
      "16        3\n",
      "17        3\n",
      "18        1\n",
      "20       12\n",
      "Name: Quantity, dtype: int64\n"
     ]
    }
   ],
   "source": [
    "bar_quantity = df.groupby(\"Quantity\")[\"Quantity\"].count()\n",
    "print(bar_quantity)"
   ]
  },
  {
   "cell_type": "code",
   "execution_count": 52,
   "metadata": {},
   "outputs": [
    {
     "data": {
      "text/plain": [
       "<AxesSubplot:title={'center':'Number of quantity'}, xlabel='Quantity', ylabel='count'>"
      ]
     },
     "execution_count": 52,
     "metadata": {},
     "output_type": "execute_result"
    },
    {
     "data": {
      "image/png": "[encoded data removed]",
      "text/plain": [
       "<Figure size 432x288 with 1 Axes>"
      ]
     },
     "metadata": {
      "needs_background": "light"
     },
     "output_type": "display_data"
    }
   ],
   "source": [
    "#visualize with bar plot\n",
    "fig, ax = plt.subplots()\n",
    "ax.set_title(\"Number of quantity\")\n",
    "sns.countplot(data = df,x = \"Quantity\", ax = ax )"
   ]
  },
  {
   "cell_type": "markdown",
   "metadata": {},
   "source": [
    "Majority_insight_1: Majority pets that are posted is alone"
   ]
  }
 ],
 "metadata": {
  "kernelspec": {
   "display_name": "Python 3",
   "language": "python",
   "name": "python3"
  },
  "language_info": {
   "codemirror_mode": {
    "name": "ipython",
    "version": 3
   },
   "file_extension": ".py",
   "mimetype": "text/x-python",
   "name": "python",
   "nbconvert_exporter": "python",
   "pygments_lexer": "ipython3",
   "version": "3.8.5"
  }
 },
 "nbformat": 4,
 "nbformat_minor": 4
}
