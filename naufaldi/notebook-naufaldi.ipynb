{
 "cells": [
  {
   "cell_type": "markdown",
   "metadata": {},
   "source": [
    "## Naufaldi Homework for Week 24 Meeting\n",
    "Exploration on Age, Gender, Maturity Size, FurLength and Quantity"
   ]
  },
  {
   "cell_type": "code",
   "execution_count": 2,
   "metadata": {},
   "outputs": [],
   "source": [
    "#import package\n",
    "import pandas as pd\n",
    "import matplotlib.pyplot as plt\n",
    "import seaborn as sns"
   ]
  },
  {
   "cell_type": "code",
   "execution_count": 2,
   "metadata": {},
   "outputs": [],
   "source": [
    "#df = pd.read_csv(\"train.csv\")"
   ]
  },
  {
   "cell_type": "code",
   "execution_count": 3,
   "metadata": {},
   "outputs": [],
   "source": [
    "#Importing data from GitHub\n",
    "url = \"https://raw.githubusercontent.com/naufaldi-fir/adoption-prediction-project/naufaldi-data-and-attribute-folder/Data%20Set/test.csv\"\n",
    "df = pd.read_csv(url)"
   ]
  },
  {
   "cell_type": "code",
   "execution_count": 4,
   "metadata": {},
   "outputs": [
    {
     "name": "stdout",
     "output_type": "stream",
     "text": [
      "   Type                       Name  Age  Breed1  Breed2  Gender  Color1  \\\n",
      "0     2               Dopey & Grey    8     266     266       1       2   \n",
      "1     2                    Chi Chi   36     285     264       2       1   \n",
      "2     2                     Sticky    2     265       0       1       6   \n",
      "3     1  Dannie & Kass [In Penang]   12     307       0       2       2   \n",
      "4     2                    Cuddles   12     265       0       1       2   \n",
      "5     2                   Porridge    4     265       0       1       6   \n",
      "6     2      Sultan [In Shah Alam]   24     265       0       1       6   \n",
      "7     2  The Four Musketeers (one)    1     265       0       1       1   \n",
      "8     2            Timmy And Boboy    7     247     266       3       2   \n",
      "9     1                   Precious   36      76     307       2       7   \n",
      "\n",
      "   Color2  Color3  MaturitySize  ...  Sterilized  Health  Quantity  Fee  \\\n",
      "0       6       7             1  ...           2       1         2    0   \n",
      "1       4       7             2  ...           1       2         1    0   \n",
      "2       7       0             2  ...           2       1         1  200   \n",
      "3       5       0             2  ...           1       1         2    0   \n",
      "4       3       7             2  ...           1       1         1    0   \n",
      "5       7       0             2  ...           2       1         1    0   \n",
      "6       7       0             2  ...           1       1         1    0   \n",
      "7       6       7             2  ...           2       1         4    0   \n",
      "8       4       5             2  ...           1       1         2    0   \n",
      "9       0       0             2  ...           2       1         1    0   \n",
      "\n",
      "   State                         RescuerID  VideoAmt  \\\n",
      "0  41326  2ece3b2573dcdcebd774e635dca15fd9         0   \n",
      "1  41326  2ece3b2573dcdcebd774e635dca15fd9         0   \n",
      "2  41326  e59c106e9912fa30c898976278c2e834         0   \n",
      "3  41326  e59c106e9912fa30c898976278c2e834         0   \n",
      "4  41326  e59c106e9912fa30c898976278c2e834         0   \n",
      "5  41326  e59c106e9912fa30c898976278c2e834         0   \n",
      "6  41326  e59c106e9912fa30c898976278c2e834         0   \n",
      "7  41326  e59c106e9912fa30c898976278c2e834         0   \n",
      "8  41326  df3f86a2d783512e0d863a47c55a86b7         0   \n",
      "9  41324  6f73a23fdb52bc9a30dc788fe6ccc7f6         0   \n",
      "\n",
      "                                         Description      PetID  PhotoAmt  \n",
      "0  Dopey Age: 8mths old Male One half of a pair, ...  e2dfc2935       2.0  \n",
      "1  Please note that Chichi has been neutered, the...  f153b465f       1.0  \n",
      "2  Sticky, named such because of his tendency to ...  3c90f3f54       4.0  \n",
      "3  Dannie and Kass are mother and daughter. We en...  e02abc8a3       5.0  \n",
      "4  Extremely cuddly cat, hence the origin of his ...  09f0df7d1       5.0  \n",
      "5  Porridge the cat is looking for a place to cal...  0487529d4       3.0  \n",
      "6  We first met Sultan on our campus hiding from ...  bae7c4b1c       2.0  \n",
      "7  These 4 darlings were found on our university ...  548bcf206       3.0  \n",
      "8  Saya ada 2 ekor kitten untuk diberi secara PER...  0f82cea1e       2.0  \n",
      "9  Hi, i have a dalmamation mix female dog to giv...  a3787f15e       9.0  \n",
      "\n",
      "[10 rows x 23 columns]\n"
     ]
    }
   ],
   "source": [
    "print(df.head(10))"
   ]
  },
  {
   "cell_type": "code",
   "execution_count": 4,
   "metadata": {},
   "outputs": [
    {
     "name": "stdout",
     "output_type": "stream",
     "text": [
      "<class 'pandas.core.frame.DataFrame'>\n",
      "RangeIndex: 14993 entries, 0 to 14992\n",
      "Data columns (total 24 columns):\n",
      " #   Column         Non-Null Count  Dtype  \n",
      "---  ------         --------------  -----  \n",
      " 0   Type           14993 non-null  int64  \n",
      " 1   Name           13736 non-null  object \n",
      " 2   Age            14993 non-null  int64  \n",
      " 3   Breed1         14993 non-null  int64  \n",
      " 4   Breed2         14993 non-null  int64  \n",
      " 5   Gender         14993 non-null  int64  \n",
      " 6   Color1         14993 non-null  int64  \n",
      " 7   Color2         14993 non-null  int64  \n",
      " 8   Color3         14993 non-null  int64  \n",
      " 9   MaturitySize   14993 non-null  int64  \n",
      " 10  FurLength      14993 non-null  int64  \n",
      " 11  Vaccinated     14993 non-null  int64  \n",
      " 12  Dewormed       14993 non-null  int64  \n",
      " 13  Sterilized     14993 non-null  int64  \n",
      " 14  Health         14993 non-null  int64  \n",
      " 15  Quantity       14993 non-null  int64  \n",
      " 16  Fee            14993 non-null  int64  \n",
      " 17  State          14993 non-null  int64  \n",
      " 18  RescuerID      14993 non-null  object \n",
      " 19  VideoAmt       14993 non-null  int64  \n",
      " 20  Description    14981 non-null  object \n",
      " 21  PetID          14993 non-null  object \n",
      " 22  PhotoAmt       14993 non-null  float64\n",
      " 23  AdoptionSpeed  14993 non-null  int64  \n",
      "dtypes: float64(1), int64(19), object(4)\n",
      "memory usage: 2.7+ MB\n"
     ]
    }
   ],
   "source": [
    "df.info()"
   ]
  },
  {
   "cell_type": "markdown",
   "metadata": {},
   "source": [
    "general_insight_1: name and description columns have less non-null count."
   ]
  },
  {
   "cell_type": "markdown",
   "metadata": {},
   "source": [
    "faizan insight 05/06/21 from his notebook"
   ]
  },
  {
   "cell_type": "markdown",
   "metadata": {},
   "source": [
    "Insight_1: There are 14993 (around 15k animals in the dataset)\n",
    "Insight_2: There are less names and descriptions (13736 and 14981 respectively) than the number of animals which implies that not all animals have a name\n",
    "Insight_3: For majority of the animals, there was no adoption after 100 days of being listed.\n",
    "Insight_4: There are more number of dogs than cats in the dataset\n",
    "Insight_5: Majority of the animals are healthy"
   ]
  },
  {
   "cell_type": "markdown",
   "metadata": {},
   "source": [
    "### Age "
   ]
  },
  {
   "cell_type": "code",
   "execution_count": 5,
   "metadata": {},
   "outputs": [],
   "source": [
    "# Age distribution attribute mit box plot. Age in months\n",
    "# df.plot(kind = \"box\", y = \"Age\")"
   ]
  },
  {
   "cell_type": "markdown",
   "metadata": {},
   "source": [
    "plotting with box plot doesn't show clear picture about distribution"
   ]
  },
  {
   "cell_type": "code",
   "execution_count": 6,
   "metadata": {},
   "outputs": [
    {
     "data": {
      "text/plain": [
       "<AxesSubplot:xlabel='Age'>"
      ]
     },
     "execution_count": 6,
     "metadata": {},
     "output_type": "execute_result"
    },
    {
     "data": {
      "image/png": "[encoded data removed]",
      "text/plain": [
       "<Figure size 432x288 with 1 Axes>"
      ]
     },
     "metadata": {
      "needs_background": "light"
     },
     "output_type": "display_data"
    }
   ],
   "source": [
    "# Age distribution with violin plot\n",
    "sns.violinplot(data = df, x = \"Age\", orient = \"h\", xlabel = \"test\")"
   ]
  },
  {
   "cell_type": "code",
   "execution_count": 7,
   "metadata": {},
   "outputs": [
    {
     "data": {
      "text/plain": [
       "count    14993.000000\n",
       "mean        10.452078\n",
       "std         18.155790\n",
       "min          0.000000\n",
       "25%          2.000000\n",
       "50%          3.000000\n",
       "75%         12.000000\n",
       "max        255.000000\n",
       "Name: Age, dtype: float64"
      ]
     },
     "execution_count": 7,
     "metadata": {},
     "output_type": "execute_result"
    }
   ],
   "source": [
    "df.Age.describe()"
   ]
  },
  {
   "cell_type": "markdown",
   "metadata": {},
   "source": [
    "Age_insight_1: 50% of pet is under 3 months, and 75% under 12 months."
   ]
  },
  {
   "cell_type": "code",
   "execution_count": 8,
   "metadata": {},
   "outputs": [
    {
     "data": {
      "text/plain": [
       "<AxesSubplot:xlabel='Age'>"
      ]
     },
     "execution_count": 8,
     "metadata": {},
     "output_type": "execute_result"
    },
    {
     "data": {
      "image/png": "[encoded data removed]",
      "text/plain": [
       "<Figure size 432x288 with 1 Axes>"
      ]
     },
     "metadata": {
      "needs_background": "light"
     },
     "output_type": "display_data"
    }
   ],
   "source": [
    "#Age distribution under 50 months\n",
    "sns.violinplot(data = df[(df.Age < 50)],x = \"Age\", orient = \"h\", inner = None)"
   ]
  },
  {
   "cell_type": "markdown",
   "metadata": {},
   "source": [
    "### Gender"
   ]
  },
  {
   "cell_type": "code",
   "execution_count": 9,
   "metadata": {},
   "outputs": [
    {
     "name": "stdout",
     "output_type": "stream",
     "text": [
      "Gender\n",
      "1    5536\n",
      "2    7277\n",
      "3    2180\n",
      "Name: Gender, dtype: int64\n"
     ]
    },
    {
     "data": {
      "image/png": "[encoded data removed]",
      "text/plain": [
       "<Figure size 432x288 with 1 Axes>"
      ]
     },
     "metadata": {},
     "output_type": "display_data"
    }
   ],
   "source": [
    "pie_gender = df.groupby(\"Gender\")[\"Gender\"].count()\n",
    "pie_gender.plot.pie()\n",
    "print(pie_gender)"
   ]
  },
  {
   "cell_type": "markdown",
   "metadata": {},
   "source": [
    "1: Male, 2: female, 3: Mixed"
   ]
  },
  {
   "cell_type": "markdown",
   "metadata": {},
   "source": [
    "Gender_Insight_1 : Majority of pets are female (2)"
   ]
  },
  {
   "cell_type": "markdown",
   "metadata": {},
   "source": [
    "### Maturity size"
   ]
  },
  {
   "cell_type": "code",
   "execution_count": 10,
   "metadata": {},
   "outputs": [
    {
     "name": "stdout",
     "output_type": "stream",
     "text": [
      "MaturitySize\n",
      "1     3395\n",
      "2    10305\n",
      "3     1260\n",
      "4       33\n",
      "Name: MaturitySize, dtype: int64\n"
     ]
    },
    {
     "data": {
      "image/png": "[encoded data removed]",
      "text/plain": [
       "<Figure size 432x288 with 1 Axes>"
      ]
     },
     "metadata": {},
     "output_type": "display_data"
    }
   ],
   "source": [
    "pie_size = df.groupby(\"MaturitySize\")[\"MaturitySize\"].count()\n",
    "print(pie_size)\n",
    "pie_size.plot.pie();"
   ]
  },
  {
   "cell_type": "markdown",
   "metadata": {},
   "source": [
    "1 = Small, 2 = Medium, 3 = Large, 4 = Extra Large, 0 = Not Specified"
   ]
  },
  {
   "cell_type": "markdown",
   "metadata": {},
   "source": [
    "Size_insight_1: Majority are in medium size"
   ]
  },
  {
   "cell_type": "markdown",
   "metadata": {},
   "source": [
    "### Fur Length"
   ]
  },
  {
   "cell_type": "code",
   "execution_count": 11,
   "metadata": {},
   "outputs": [
    {
     "name": "stdout",
     "output_type": "stream",
     "text": [
      "FurLength\n",
      "1    8808\n",
      "2    5361\n",
      "3     824\n",
      "Name: FurLength, dtype: int64\n"
     ]
    },
    {
     "data": {
      "image/png": "[encoded data removed]",
      "text/plain": [
       "<Figure size 432x288 with 1 Axes>"
      ]
     },
     "metadata": {},
     "output_type": "display_data"
    }
   ],
   "source": [
    "pie_group = df.groupby(\"FurLength\")[\"FurLength\"].count()\n",
    "print(pie_group)\n",
    "pie_group.plot.pie();"
   ]
  },
  {
   "cell_type": "markdown",
   "metadata": {},
   "source": [
    "1 = Short, 2 = Medium, 3 = Long, 0 = Not Specified"
   ]
  },
  {
   "cell_type": "markdown",
   "metadata": {},
   "source": [
    "FurLength_insight_1: Majority has short fur"
   ]
  },
  {
   "cell_type": "markdown",
   "metadata": {},
   "source": [
    "### Quantity"
   ]
  },
  {
   "cell_type": "code",
   "execution_count": 12,
   "metadata": {},
   "outputs": [
    {
     "name": "stdout",
     "output_type": "stream",
     "text": [
      "Quantity\n",
      "1     11565\n",
      "2      1422\n",
      "3       726\n",
      "4       531\n",
      "5       333\n",
      "6       185\n",
      "7        84\n",
      "8        52\n",
      "9        33\n",
      "10       19\n",
      "11       10\n",
      "12        6\n",
      "13        2\n",
      "14        2\n",
      "15        4\n",
      "16        3\n",
      "17        3\n",
      "18        1\n",
      "20       12\n",
      "Name: Quantity, dtype: int64\n"
     ]
    }
   ],
   "source": [
    "bar_quantity = df.groupby(\"Quantity\")[\"Quantity\"].count()\n",
    "print(bar_quantity)"
   ]
  },
  {
   "cell_type": "code",
   "execution_count": 31,
   "metadata": {},
   "outputs": [],
   "source": [
    "##visualize with bar plot subplots\n",
    "#fig, ax = plt.subplots()\n",
    "#ax.set_title(\"Number of quantity\")\n",
    "#sns.countplot(data = df,x = \"Quantity\", ax = ax)"
   ]
  },
  {
   "cell_type": "code",
   "execution_count": 30,
   "metadata": {},
   "outputs": [
    {
     "data": {
      "text/plain": [
       "Text(0.5, 1.0, 'test')"
      ]
     },
     "execution_count": 30,
     "metadata": {},
     "output_type": "execute_result"
    },
    {
     "data": {
      "image/png": "[encoded data removed]",
      "text/plain": [
       "<Figure size 432x288 with 1 Axes>"
      ]
     },
     "metadata": {
      "needs_background": "light"
     },
     "output_type": "display_data"
    }
   ],
   "source": [
    "sns.countplot(data = df, x = \"Quantity\")\n",
    "plt.title(\"\")"
   ]
  },
  {
   "cell_type": "code",
   "execution_count": 26,
   "metadata": {},
   "outputs": [
    {
     "data": {
      "image/png": "[encoded data removed]",
      "text/plain": [
       "<Figure size 432x288 with 1 Axes>"
      ]
     },
     "metadata": {
      "needs_background": "light"
     },
     "output_type": "display_data"
    }
   ],
   "source": [
    "b = sns.countplot(data = df, x = \"Quantity\")"
   ]
  },
  {
   "cell_type": "markdown",
   "metadata": {},
   "source": [
    "Majority_insight_1: Majority pets that are posted is alone"
   ]
  }
 ],
 "metadata": {
  "kernelspec": {
   "display_name": "Python 3",
   "language": "python",
   "name": "python3"
  },
  "language_info": {
   "codemirror_mode": {
    "name": "ipython",
    "version": 3
   },
   "file_extension": ".py",
   "mimetype": "text/x-python",
   "name": "python",
   "nbconvert_exporter": "python",
   "pygments_lexer": "ipython3",
   "version": "3.8.5"
  }
 },
 "nbformat": 4,
 "nbformat_minor": 4
}
