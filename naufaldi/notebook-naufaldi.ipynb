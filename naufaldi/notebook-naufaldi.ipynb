{
 "cells": [
  {
   "cell_type": "code",
   "execution_count": 11,
   "metadata": {},
   "outputs": [],
   "source": [
    "import pandas as pd\n",
    "import matplotlib.pyplot as plt\n",
    "import seaborn as sns"
   ]
  },
  {
   "cell_type": "code",
   "execution_count": 3,
   "metadata": {},
   "outputs": [],
   "source": [
    "df = pd.read_csv(\"train.csv\")"
   ]
  },
  {
   "cell_type": "code",
   "execution_count": 4,
   "metadata": {},
   "outputs": [
    {
     "name": "stdout",
     "output_type": "stream",
     "text": [
      "   Type         Name  Age  Breed1  Breed2  Gender  Color1  Color2  Color3  \\\n",
      "0     2       Nibble    3     299       0       1       1       7       0   \n",
      "1     2  No Name Yet    1     265       0       1       1       2       0   \n",
      "2     1       Brisco    1     307       0       1       2       7       0   \n",
      "3     1         Miko    4     307       0       2       1       2       0   \n",
      "4     1       Hunter    1     307       0       1       1       0       0   \n",
      "\n",
      "   MaturitySize  ...  Health  Quantity  Fee  State  \\\n",
      "0             1  ...       1         1  100  41326   \n",
      "1             2  ...       1         1    0  41401   \n",
      "2             2  ...       1         1    0  41326   \n",
      "3             2  ...       1         1  150  41401   \n",
      "4             2  ...       1         1    0  41326   \n",
      "\n",
      "                          RescuerID  VideoAmt  \\\n",
      "0  8480853f516546f6cf33aa88cd76c379         0   \n",
      "1  3082c7125d8fb66f7dd4bff4192c8b14         0   \n",
      "2  fa90fa5b1ee11c86938398b60abc32cb         0   \n",
      "3  9238e4f44c71a75282e62f7136c6b240         0   \n",
      "4  95481e953f8aed9ec3d16fc4509537e8         0   \n",
      "\n",
      "                                         Description      PetID PhotoAmt  \\\n",
      "0  Nibble is a 3+ month old ball of cuteness. He ...  86e1089a3      1.0   \n",
      "1  I just found it alone yesterday near my apartm...  6296e909a      2.0   \n",
      "2  Their pregnant mother was dumped by her irresp...  3422e4906      7.0   \n",
      "3  Good guard dog, very alert, active, obedience ...  5842f1ff5      8.0   \n",
      "4  This handsome yet cute boy is up for adoption....  850a43f90      3.0   \n",
      "\n",
      "   AdoptionSpeed  \n",
      "0              2  \n",
      "1              0  \n",
      "2              3  \n",
      "3              2  \n",
      "4              2  \n",
      "\n",
      "[5 rows x 24 columns]\n"
     ]
    }
   ],
   "source": [
    "print(df.head())"
   ]
  },
  {
   "cell_type": "code",
   "execution_count": 5,
   "metadata": {},
   "outputs": [
    {
     "data": {
      "text/plain": [
       "(14993, 24)"
      ]
     },
     "execution_count": 5,
     "metadata": {},
     "output_type": "execute_result"
    }
   ],
   "source": [
    "df.shape"
   ]
  },
  {
   "cell_type": "code",
   "execution_count": 6,
   "metadata": {},
   "outputs": [
    {
     "name": "stdout",
     "output_type": "stream",
     "text": [
      "<class 'pandas.core.frame.DataFrame'>\n",
      "RangeIndex: 14993 entries, 0 to 14992\n",
      "Data columns (total 24 columns):\n",
      " #   Column         Non-Null Count  Dtype  \n",
      "---  ------         --------------  -----  \n",
      " 0   Type           14993 non-null  int64  \n",
      " 1   Name           13736 non-null  object \n",
      " 2   Age            14993 non-null  int64  \n",
      " 3   Breed1         14993 non-null  int64  \n",
      " 4   Breed2         14993 non-null  int64  \n",
      " 5   Gender         14993 non-null  int64  \n",
      " 6   Color1         14993 non-null  int64  \n",
      " 7   Color2         14993 non-null  int64  \n",
      " 8   Color3         14993 non-null  int64  \n",
      " 9   MaturitySize   14993 non-null  int64  \n",
      " 10  FurLength      14993 non-null  int64  \n",
      " 11  Vaccinated     14993 non-null  int64  \n",
      " 12  Dewormed       14993 non-null  int64  \n",
      " 13  Sterilized     14993 non-null  int64  \n",
      " 14  Health         14993 non-null  int64  \n",
      " 15  Quantity       14993 non-null  int64  \n",
      " 16  Fee            14993 non-null  int64  \n",
      " 17  State          14993 non-null  int64  \n",
      " 18  RescuerID      14993 non-null  object \n",
      " 19  VideoAmt       14993 non-null  int64  \n",
      " 20  Description    14981 non-null  object \n",
      " 21  PetID          14993 non-null  object \n",
      " 22  PhotoAmt       14993 non-null  float64\n",
      " 23  AdoptionSpeed  14993 non-null  int64  \n",
      "dtypes: float64(1), int64(19), object(4)\n",
      "memory usage: 2.7+ MB\n"
     ]
    }
   ],
   "source": [
    "df.info()\n",
    "#insight_1: name and description columns have less non-null count."
   ]
  },
  {
   "cell_type": "code",
   "execution_count": 7,
   "metadata": {},
   "outputs": [],
   "source": [
    "##faizan insight\n",
    "# Insight_1: There are 14993 (around 15k animals in the dataset)\n",
    "# Insight_2: There are less names and descriptions (13736 and 14981 respectively) than the number of animals which implies that not all animals have a name\n",
    "# Insight_3: For majority of the animals, there was no adoption after 100 days of being listed.\n",
    "# Insight_4: There are more number of dogs than cats in the dataset\n",
    "# Insight_5: Majority of the animals are healthy"
   ]
  },
  {
   "cell_type": "markdown",
   "metadata": {},
   "source": [
    " ### Age attribute"
   ]
  },
  {
   "cell_type": "code",
   "execution_count": 10,
   "metadata": {},
   "outputs": [
    {
     "data": {
      "text/plain": [
       "<AxesSubplot:>"
      ]
     },
     "execution_count": 10,
     "metadata": {},
     "output_type": "execute_result"
    },
    {
     "data": {
      "image/png": "[encoded data removed]",
      "text/plain": [
       "<Figure size 432x288 with 1 Axes>"
      ]
     },
     "metadata": {
      "needs_background": "light"
     },
     "output_type": "display_data"
    }
   ],
   "source": [
    "# age is in month\n",
    "df.Age.plot(kind = \"box\")"
   ]
  },
  {
   "cell_type": "code",
   "execution_count": 16,
   "metadata": {},
   "outputs": [
    {
     "data": {
      "text/plain": [
       "<AxesSubplot:ylabel='Age'>"
      ]
     },
     "execution_count": 16,
     "metadata": {},
     "output_type": "execute_result"
    },
    {
     "data": {
      "image/png": "[encoded data removed]",
      "text/plain": [
       "<Figure size 432x288 with 1 Axes>"
      ]
     },
     "metadata": {
      "needs_background": "light"
     },
     "output_type": "display_data"
    }
   ],
   "source": [
    "#visualizing with violin plot\n",
    "sns.violinplot(data = df, y = \"Age\")"
   ]
  },
  {
   "cell_type": "code",
   "execution_count": 17,
   "metadata": {},
   "outputs": [
    {
     "data": {
      "text/plain": [
       "count    14993.000000\n",
       "mean        10.452078\n",
       "std         18.155790\n",
       "min          0.000000\n",
       "25%          2.000000\n",
       "50%          3.000000\n",
       "75%         12.000000\n",
       "max        255.000000\n",
       "Name: Age, dtype: float64"
      ]
     },
     "execution_count": 17,
     "metadata": {},
     "output_type": "execute_result"
    }
   ],
   "source": [
    "df.Age.describe()"
   ]
  },
  {
   "cell_type": "code",
   "execution_count": null,
   "metadata": {},
   "outputs": [],
   "source": [
    "# insight_2: 50% of pet is under 3 months, and 75% under 12 months."
   ]
  },
  {
   "cell_type": "code",
   "execution_count": 14,
   "metadata": {},
   "outputs": [
    {
     "data": {
      "text/plain": [
       "255"
      ]
     },
     "execution_count": 14,
     "metadata": {},
     "output_type": "execute_result"
    }
   ],
   "source": [
    "df.Age.max()"
   ]
  }
 ],
 "metadata": {
  "kernelspec": {
   "display_name": "Python 3",
   "language": "python",
   "name": "python3"
  },
  "language_info": {
   "codemirror_mode": {
    "name": "ipython",
    "version": 3
   },
   "file_extension": ".py",
   "mimetype": "text/x-python",
   "name": "python",
   "nbconvert_exporter": "python",
   "pygments_lexer": "ipython3",
   "version": "3.8.5"
  }
 },
 "nbformat": 4,
 "nbformat_minor": 4
}
