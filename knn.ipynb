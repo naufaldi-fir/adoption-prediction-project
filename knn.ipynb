{
 "cells": [
  {
   "cell_type": "code",
   "execution_count": 21,
   "metadata": {},
   "outputs": [
    {
     "name": "stdout",
     "output_type": "stream",
     "text": [
      "0.2555973119706093\n"
     ]
    }
   ],
   "source": [
    "import pandas as pd\r\n",
    "import numpy as np\r\n",
    "from sklearn.model_selection import train_test_split\r\n",
    "from sklearn.neighbors import KNeighborsClassifier\r\n",
    "from sklearn.metrics import cohen_kappa_score\r\n",
    "from sklearn.preprocessing import StandardScaler\r\n",
    "\r\n",
    "\r\n",
    "#Load the data and split the data into dog and cat\r\n",
    "train=pd.read_csv('train.csv')\r\n",
    "train_dog=train[train['Type']==1]\r\n",
    "train_cat=train[train['Type']==2]\r\n",
    "\r\n",
    "#All features, that do not require further preprocessing: \r\n",
    "#['Type', 'Age', 'Gender', 'MaturitySize', 'FurLength', 'Vaccinated', 'Dewormed', 'Sterilized', 'Health', 'Quantity', 'Fee']\r\n",
    "feature_cols=['Type', 'Age', 'Gender', 'MaturitySize', 'FurLength', 'Vaccinated', 'Dewormed', 'Sterilized', 'Health', 'Quantity', 'Fee']\r\n",
    "\r\n",
    "#Define y and X\r\n",
    "\r\n",
    "y=train.AdoptionSpeed\r\n",
    "X_unscaled=train[feature_cols]\r\n",
    "#Scale all features\r\n",
    "scaler=StandardScaler()\r\n",
    "X_scaled=scaler.fit_transform(X_unscaled)\r\n",
    "X=pd.DataFrame(X_scaled)\r\n",
    "\r\n",
    "#Use the knn model\r\n",
    "knn=KNeighborsClassifier(n_neighbors=54)\r\n",
    "X_train, X_test, y_train, y_test = train_test_split(X, y, test_size=0.4, random_state=42)\r\n",
    "knn.fit(X_train, y_train)\r\n",
    "y_pred=knn.predict(X_test)\r\n",
    "\r\n",
    "#Print out the quadratic weighted kappa score\r\n",
    "print(cohen_kappa_score(y_pred, y_test, weights='quadratic'))\r\n"
   ]
  },
  {
   "cell_type": "markdown",
   "metadata": {},
   "source": [
    "Scores for splitting dogs and cats, neighbors=8:\r\n",
    "- score for both together, including feature 'Type': 0.21438\r\n",
    "- score for only dogs: 0.19288\r\n",
    "- score for only cats: 0.19063\r\n",
    "\r\n",
    "Scores for other values for neighbors, dogs and cats combined:\r\n",
    "n=48: 0.23737\r\n",
    "n=53: 0.24947\r\n",
    "n=55: 0.25120\r\n",
    "n=54: 0.25560\r\n"
   ]
  }
 ],
 "metadata": {
  "language_info": {
   "name": "python",
   "nbconvert_exporter": "python"
  },
  "orig_nbformat": 4
 },
 "nbformat": 4,
 "nbformat_minor": 2
}