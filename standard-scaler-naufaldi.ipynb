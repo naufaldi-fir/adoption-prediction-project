{
 "cells": [
  {
   "cell_type": "markdown",
   "id": "01541f9a-f837-4fd8-889a-1bb868b8952c",
   "metadata": {},
   "source": [
    "# Goals"
   ]
  },
  {
   "cell_type": "markdown",
   "id": "e1a34b73-3c32-404f-b83d-b0f4672e6ca7",
   "metadata": {},
   "source": [
    "In this notebook, we want to:\n",
    "- Select data"
   ]
  },
  {
   "cell_type": "markdown",
   "id": "44196ae7-0cbe-45be-9adc-65740a690475",
   "metadata": {},
   "source": [
    "# Coding"
   ]
  },
  {
   "cell_type": "markdown",
   "id": "cf8c165b-06ba-45f0-8f44-900e6abd6094",
   "metadata": {
    "tags": []
   },
   "source": [
    "## making standardized table with only ordinal categorical data "
   ]
  },
  {
   "cell_type": "markdown",
   "id": "28d73083-d8d5-4b17-aa48-cf47f3f5757f",
   "metadata": {},
   "source": [
    "### Importing data"
   ]
  },
  {
   "cell_type": "code",
   "execution_count": 2,
   "id": "96f9e4b9-119a-44e9-a975-9c5a3ae7e108",
   "metadata": {},
   "outputs": [],
   "source": [
    "import pandas as pd"
   ]
  },
  {
   "cell_type": "code",
   "execution_count": 5,
   "id": "b110ce4a-27e2-48a7-8a4a-234408fc29a3",
   "metadata": {
    "collapsed": true,
    "jupyter": {
     "outputs_hidden": true
    },
    "tags": []
   },
   "outputs": [
    {
     "name": "stdout",
     "output_type": "stream",
     "text": [
      "       Type            Name  Age  Breed1  Breed2  Gender  Color1  Color2  \\\n",
      "0         2          Nibble    3     299       0       1       1       7   \n",
      "1         2     No Name Yet    1     265       0       1       1       2   \n",
      "2         1          Brisco    1     307       0       1       2       7   \n",
      "3         1            Miko    4     307       0       2       1       2   \n",
      "4         1          Hunter    1     307       0       1       1       0   \n",
      "...     ...             ...  ...     ...     ...     ...     ...     ...   \n",
      "14988     2             NaN    2     266       0       3       1       0   \n",
      "14989     2  Serato & Eddie   60     265     264       3       1       4   \n",
      "14990     2         Monkies    2     265     266       3       5       6   \n",
      "14991     2         Ms Daym    9     266       0       2       4       7   \n",
      "14992     1            Fili    1     307     307       1       2       0   \n",
      "\n",
      "       Color3  MaturitySize  ...  Health  Quantity  Fee  State  \\\n",
      "0           0             1  ...       1         1  100  41326   \n",
      "1           0             2  ...       1         1    0  41401   \n",
      "2           0             2  ...       1         1    0  41326   \n",
      "3           0             2  ...       1         1  150  41401   \n",
      "4           0             2  ...       1         1    0  41326   \n",
      "...       ...           ...  ...     ...       ...  ...    ...   \n",
      "14988       0             2  ...       1         4    0  41326   \n",
      "14989       7             2  ...       1         2    0  41326   \n",
      "14990       7             3  ...       1         5   30  41326   \n",
      "14991       0             1  ...       1         1    0  41336   \n",
      "14992       0             2  ...       1         1    0  41332   \n",
      "\n",
      "                              RescuerID  VideoAmt  \\\n",
      "0      8480853f516546f6cf33aa88cd76c379         0   \n",
      "1      3082c7125d8fb66f7dd4bff4192c8b14         0   \n",
      "2      fa90fa5b1ee11c86938398b60abc32cb         0   \n",
      "3      9238e4f44c71a75282e62f7136c6b240         0   \n",
      "4      95481e953f8aed9ec3d16fc4509537e8         0   \n",
      "...                                 ...       ...   \n",
      "14988  61c84bd7bcb6fb31d2d480b1bcf9682e         0   \n",
      "14989  1d5096c4a5e159a3b750c5cfcf6ceabf         0   \n",
      "14990  6f40a7acfad5cc0bb3e44591ea446c05         0   \n",
      "14991  c311c0c569245baa147d91fa4e351ae4         0   \n",
      "14992  9ed1d5493d223eaa5024c1a031dbc9c2         0   \n",
      "\n",
      "                                             Description      PetID PhotoAmt  \\\n",
      "0      Nibble is a 3+ month old ball of cuteness. He ...  86e1089a3      1.0   \n",
      "1      I just found it alone yesterday near my apartm...  6296e909a      2.0   \n",
      "2      Their pregnant mother was dumped by her irresp...  3422e4906      7.0   \n",
      "3      Good guard dog, very alert, active, obedience ...  5842f1ff5      8.0   \n",
      "4      This handsome yet cute boy is up for adoption....  850a43f90      3.0   \n",
      "...                                                  ...        ...      ...   \n",
      "14988  I have 4 kittens that need to be adopt urgentl...  dc0935a84      3.0   \n",
      "14989  Serato(female cat- 3 color) is 4 years old and...  a01ab5b30      3.0   \n",
      "14990  Mix breed, good temperament kittens. Love huma...  d981b6395      5.0   \n",
      "14991  she is very shy..adventures and independent..s...  e4da1c9e4      3.0   \n",
      "14992  Fili just loves laying around and also loves b...  a83d95ead      1.0   \n",
      "\n",
      "       AdoptionSpeed  \n",
      "0                  2  \n",
      "1                  0  \n",
      "2                  3  \n",
      "3                  2  \n",
      "4                  2  \n",
      "...              ...  \n",
      "14988              2  \n",
      "14989              4  \n",
      "14990              3  \n",
      "14991              4  \n",
      "14992              3  \n",
      "\n",
      "[14993 rows x 24 columns]\n"
     ]
    }
   ],
   "source": [
    "# import train.csv\n",
    "url_train = \"https://raw.githubusercontent.com/naufaldi-fir/adoption-prediction-project/main/Data%20Set/train.csv\"\n",
    "train = pd.read_csv(url_train)\n",
    "print(train)"
   ]
  },
  {
   "cell_type": "markdown",
   "id": "f34b19f5-309f-4348-9939-3daaee206d7e",
   "metadata": {},
   "source": [
    "### Slicing table"
   ]
  },
  {
   "cell_type": "markdown",
   "id": "50682689-2760-4dd0-8e81-98d5bce0cf87",
   "metadata": {
    "tags": []
   },
   "source": [
    "List of ordinal categorical and binary data are Age, MaturitySize, vaccinated, dewormed, sterilized, health, and fee."
   ]
  },
  {
   "cell_type": "code",
   "execution_count": 6,
   "id": "a270164a-5003-492e-856c-24742a9f7d9b",
   "metadata": {},
   "outputs": [
    {
     "name": "stdout",
     "output_type": "stream",
     "text": [
      "       Age  MaturitySize  Vaccinated  Dewormed  Sterilized  Health  Fee\n",
      "0        3             1           2         2           2       1  100\n",
      "1        1             2           3         3           3       1    0\n",
      "2        1             2           1         1           2       1    0\n",
      "3        4             2           1         1           2       1  150\n",
      "4        1             2           2         2           2       1    0\n",
      "...    ...           ...         ...       ...         ...     ...  ...\n",
      "14988    2             2           2         2           2       1    0\n",
      "14989   60             2           1         1           1       1    0\n",
      "14990    2             3           2         1           3       1   30\n",
      "14991    9             1           1         1           1       1    0\n",
      "14992    1             2           2         2           2       1    0\n",
      "\n",
      "[14993 rows x 7 columns]\n"
     ]
    }
   ],
   "source": [
    "# make new table only for ordinal data\n",
    "ordinal_data=[ 'Age', 'MaturitySize', 'Vaccinated', 'Dewormed', 'Sterilized', 'Health', 'Fee']\n",
    "ordinal = train[ordinal_data]\n",
    "print(ordinal)"
   ]
  },
  {
   "cell_type": "markdown",
   "id": "e31375aa-589f-4c13-9382-4c72232a3650",
   "metadata": {
    "tags": []
   },
   "source": [
    "## Standardizing Table"
   ]
  },
  {
   "cell_type": "code",
   "execution_count": 9,
   "id": "e029c4af-7e69-456a-afeb-1954b0171d0b",
   "metadata": {},
   "outputs": [
    {
     "name": "stdout",
     "output_type": "stream",
     "text": [
      "              0         1         2         3         4         5         6\n",
      "0     -0.410466 -1.573167  0.402608  0.634200  0.151502 -0.183518  1.004184\n",
      "1     -0.520627  0.251848  1.900450  2.071408  1.917809 -0.183518 -0.271132\n",
      "2     -0.520627  0.251848 -1.095234 -0.803007  0.151502 -0.183518 -0.271132\n",
      "3     -0.355385  0.251848 -1.095234 -0.803007  0.151502 -0.183518  1.641842\n",
      "4     -0.520627  0.251848  0.402608  0.634200  0.151502 -0.183518 -0.271132\n",
      "...         ...       ...       ...       ...       ...       ...       ...\n",
      "14988 -0.465546  0.251848  0.402608  0.634200  0.151502 -0.183518 -0.271132\n",
      "14989  2.729133  0.251848 -1.095234 -0.803007 -1.614805 -0.183518 -0.271132\n",
      "14990 -0.465546  2.076863  0.402608 -0.803007  1.917809 -0.183518  0.111463\n",
      "14991 -0.079981 -1.573167 -1.095234 -0.803007 -1.614805 -0.183518 -0.271132\n",
      "14992 -0.520627  0.251848  0.402608  0.634200  0.151502 -0.183518 -0.271132\n",
      "\n",
      "[14993 rows x 7 columns]\n"
     ]
    }
   ],
   "source": [
    "# import standard scaler module and standardized train the table\n",
    "from sklearn.preprocessing import StandardScaler\n",
    "\n",
    "train_unscaled = ordinal\n",
    "scaler = StandardScaler()\n",
    "X_scaled = scaler.fit_transform(train_unscaled)\n",
    "train_scaled = pd.DataFrame(X_scaled)\n",
    "print(train_scaled)"
   ]
  }
 ],
 "metadata": {
  "kernelspec": {
   "display_name": "Python 3 (ipykernel)",
   "language": "python",
   "name": "python3"
  },
  "language_info": {
   "codemirror_mode": {
    "name": "ipython",
    "version": 3
   },
   "file_extension": ".py",
   "mimetype": "text/x-python",
   "name": "python",
   "nbconvert_exporter": "python",
   "pygments_lexer": "ipython3",
   "version": "3.8.11"
  },
  "toc-autonumbering": true,
  "toc-showcode": false,
  "toc-showmarkdowntxt": false,
  "toc-showtags": false
 },
 "nbformat": 4,
 "nbformat_minor": 5
}
