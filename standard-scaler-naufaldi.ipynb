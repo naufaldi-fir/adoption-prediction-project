{
 "cells": [
  {
   "cell_type": "markdown",
   "id": "cf8c165b-06ba-45f0-8f44-900e6abd6094",
   "metadata": {
    "tags": []
   },
   "source": [
    "# Standard Scaler for PCA"
   ]
  },
  {
   "cell_type": "markdown",
   "id": "7219e61e-d977-4748-81b9-49faa2254232",
   "metadata": {},
   "source": [
    "Outline\n",
    "1. Import and make table only for ordinal categorical and binary data\n",
    "2. Transform it using standard scaler\n",
    "3. export it for another notebook for using PCA"
   ]
  },
  {
   "cell_type": "markdown",
   "id": "28d73083-d8d5-4b17-aa48-cf47f3f5757f",
   "metadata": {},
   "source": [
    "## 1. Import and make table only for ordinal categorical and binary data "
   ]
  },
  {
   "cell_type": "code",
   "execution_count": null,
   "id": "b110ce4a-27e2-48a7-8a4a-234408fc29a3",
   "metadata": {},
   "outputs": [],
   "source": [
    "# import train.csv\n",
    "url_train = \"https://raw.githubusercontent.com/naufaldi-fir/adoption-prediction-project/main/Data%20Set/train.csv\"\n",
    "train = pd.read_csv(url_train)"
   ]
  }
 ],
 "metadata": {
  "kernelspec": {
   "display_name": "Python 3 (ipykernel)",
   "language": "python",
   "name": "python3"
  },
  "language_info": {
   "codemirror_mode": {
    "name": "ipython",
    "version": 3
   },
   "file_extension": ".py",
   "mimetype": "text/x-python",
   "name": "python",
   "nbconvert_exporter": "python",
   "pygments_lexer": "ipython3",
   "version": "3.8.11"
  },
  "toc-autonumbering": false,
  "toc-showcode": false,
  "toc-showmarkdowntxt": false,
  "toc-showtags": false
 },
 "nbformat": 4,
 "nbformat_minor": 5
}
