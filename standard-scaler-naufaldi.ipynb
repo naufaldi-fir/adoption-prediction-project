{
 "cells": [
  {
   "cell_type": "markdown",
   "id": "01541f9a-f837-4fd8-889a-1bb868b8952c",
   "metadata": {
    "tags": []
   },
   "source": [
    "# Goals"
   ]
  },
  {
   "cell_type": "markdown",
   "id": "e1a34b73-3c32-404f-b83d-b0f4672e6ca7",
   "metadata": {},
   "source": [
    "In this notebook, we want to:\n",
    "1. Slicing train data set table with only ordinal data\n",
    "2. standardizing data\n",
    "3. using PCA to determined the most impactful feature"
   ]
  },
  {
   "cell_type": "markdown",
   "id": "44196ae7-0cbe-45be-9adc-65740a690475",
   "metadata": {
    "tags": []
   },
   "source": [
    "# Coding"
   ]
  },
  {
   "cell_type": "markdown",
   "id": "cf8c165b-06ba-45f0-8f44-900e6abd6094",
   "metadata": {
    "tags": []
   },
   "source": [
    "## Transforming table"
   ]
  },
  {
   "cell_type": "markdown",
   "id": "28d73083-d8d5-4b17-aa48-cf47f3f5757f",
   "metadata": {},
   "source": [
    "### Importing data"
   ]
  },
  {
   "cell_type": "code",
   "execution_count": 44,
   "id": "96f9e4b9-119a-44e9-a975-9c5a3ae7e108",
   "metadata": {},
   "outputs": [],
   "source": [
    "import pandas as pd"
   ]
  },
  {
   "cell_type": "code",
   "execution_count": 45,
   "id": "b110ce4a-27e2-48a7-8a4a-234408fc29a3",
   "metadata": {
    "tags": []
   },
   "outputs": [
    {
     "name": "stdout",
     "output_type": "stream",
     "text": [
      "       Type            Name  Age  Breed1  Breed2  Gender  Color1  Color2  \\\n",
      "0         2          Nibble    3     299       0       1       1       7   \n",
      "1         2     No Name Yet    1     265       0       1       1       2   \n",
      "2         1          Brisco    1     307       0       1       2       7   \n",
      "3         1            Miko    4     307       0       2       1       2   \n",
      "4         1          Hunter    1     307       0       1       1       0   \n",
      "...     ...             ...  ...     ...     ...     ...     ...     ...   \n",
      "14988     2             NaN    2     266       0       3       1       0   \n",
      "14989     2  Serato & Eddie   60     265     264       3       1       4   \n",
      "14990     2         Monkies    2     265     266       3       5       6   \n",
      "14991     2         Ms Daym    9     266       0       2       4       7   \n",
      "14992     1            Fili    1     307     307       1       2       0   \n",
      "\n",
      "       Color3  MaturitySize  ...  Health  Quantity  Fee  State  \\\n",
      "0           0             1  ...       1         1  100  41326   \n",
      "1           0             2  ...       1         1    0  41401   \n",
      "2           0             2  ...       1         1    0  41326   \n",
      "3           0             2  ...       1         1  150  41401   \n",
      "4           0             2  ...       1         1    0  41326   \n",
      "...       ...           ...  ...     ...       ...  ...    ...   \n",
      "14988       0             2  ...       1         4    0  41326   \n",
      "14989       7             2  ...       1         2    0  41326   \n",
      "14990       7             3  ...       1         5   30  41326   \n",
      "14991       0             1  ...       1         1    0  41336   \n",
      "14992       0             2  ...       1         1    0  41332   \n",
      "\n",
      "                              RescuerID  VideoAmt  \\\n",
      "0      8480853f516546f6cf33aa88cd76c379         0   \n",
      "1      3082c7125d8fb66f7dd4bff4192c8b14         0   \n",
      "2      fa90fa5b1ee11c86938398b60abc32cb         0   \n",
      "3      9238e4f44c71a75282e62f7136c6b240         0   \n",
      "4      95481e953f8aed9ec3d16fc4509537e8         0   \n",
      "...                                 ...       ...   \n",
      "14988  61c84bd7bcb6fb31d2d480b1bcf9682e         0   \n",
      "14989  1d5096c4a5e159a3b750c5cfcf6ceabf         0   \n",
      "14990  6f40a7acfad5cc0bb3e44591ea446c05         0   \n",
      "14991  c311c0c569245baa147d91fa4e351ae4         0   \n",
      "14992  9ed1d5493d223eaa5024c1a031dbc9c2         0   \n",
      "\n",
      "                                             Description      PetID PhotoAmt  \\\n",
      "0      Nibble is a 3+ month old ball of cuteness. He ...  86e1089a3      1.0   \n",
      "1      I just found it alone yesterday near my apartm...  6296e909a      2.0   \n",
      "2      Their pregnant mother was dumped by her irresp...  3422e4906      7.0   \n",
      "3      Good guard dog, very alert, active, obedience ...  5842f1ff5      8.0   \n",
      "4      This handsome yet cute boy is up for adoption....  850a43f90      3.0   \n",
      "...                                                  ...        ...      ...   \n",
      "14988  I have 4 kittens that need to be adopt urgentl...  dc0935a84      3.0   \n",
      "14989  Serato(female cat- 3 color) is 4 years old and...  a01ab5b30      3.0   \n",
      "14990  Mix breed, good temperament kittens. Love huma...  d981b6395      5.0   \n",
      "14991  she is very shy..adventures and independent..s...  e4da1c9e4      3.0   \n",
      "14992  Fili just loves laying around and also loves b...  a83d95ead      1.0   \n",
      "\n",
      "       AdoptionSpeed  \n",
      "0                  2  \n",
      "1                  0  \n",
      "2                  3  \n",
      "3                  2  \n",
      "4                  2  \n",
      "...              ...  \n",
      "14988              2  \n",
      "14989              4  \n",
      "14990              3  \n",
      "14991              4  \n",
      "14992              3  \n",
      "\n",
      "[14993 rows x 24 columns]\n"
     ]
    }
   ],
   "source": [
    "# import train.csv\n",
    "url_train = \"https://raw.githubusercontent.com/naufaldi-fir/adoption-prediction-project/main/Data%20Set/train.csv\"\n",
    "train = pd.read_csv(url_train)\n",
    "print(train)"
   ]
  },
  {
   "cell_type": "markdown",
   "id": "f34b19f5-309f-4348-9939-3daaee206d7e",
   "metadata": {},
   "source": [
    "### Slicing table"
   ]
  },
  {
   "cell_type": "markdown",
   "id": "50682689-2760-4dd0-8e81-98d5bce0cf87",
   "metadata": {
    "tags": []
   },
   "source": [
    "List of ordinal categorical and binary data are Age, MaturitySize, vaccinated, dewormed, sterilized, health, and fee."
   ]
  },
  {
   "cell_type": "code",
   "execution_count": 46,
   "id": "a270164a-5003-492e-856c-24742a9f7d9b",
   "metadata": {},
   "outputs": [
    {
     "name": "stdout",
     "output_type": "stream",
     "text": [
      "       Age  MaturitySize  FurLength  Vaccinated  Dewormed  Sterilized  Health  \\\n",
      "0        3             1          1           2         2           2       1   \n",
      "1        1             2          2           3         3           3       1   \n",
      "2        1             2          2           1         1           2       1   \n",
      "3        4             2          1           1         1           2       1   \n",
      "4        1             2          1           2         2           2       1   \n",
      "...    ...           ...        ...         ...       ...         ...     ...   \n",
      "14988    2             2          2           2         2           2       1   \n",
      "14989   60             2          2           1         1           1       1   \n",
      "14990    2             3          2           2         1           3       1   \n",
      "14991    9             1          1           1         1           1       1   \n",
      "14992    1             2          1           2         2           2       1   \n",
      "\n",
      "       Fee  \n",
      "0      100  \n",
      "1        0  \n",
      "2        0  \n",
      "3      150  \n",
      "4        0  \n",
      "...    ...  \n",
      "14988    0  \n",
      "14989    0  \n",
      "14990   30  \n",
      "14991    0  \n",
      "14992    0  \n",
      "\n",
      "[14993 rows x 8 columns]\n"
     ]
    }
   ],
   "source": [
    "# make new table only for ordinal data\n",
    "ordinal_feature=[ 'Age', 'MaturitySize',\"FurLength\", 'Vaccinated', 'Dewormed', 'Sterilized', 'Health', 'Fee']\n",
    "ordinal = train[ordinal_feature]\n",
    "print(ordinal)"
   ]
  },
  {
   "cell_type": "markdown",
   "id": "28d7165a-ce25-4944-b3fa-84ab102e11aa",
   "metadata": {},
   "source": [
    "### Exploration on ordinal data"
   ]
  },
  {
   "cell_type": "code",
   "execution_count": 47,
   "id": "7d9d9851-9459-453d-a91a-ed68bd1d3fe7",
   "metadata": {},
   "outputs": [],
   "source": [
    "import seaborn as sns"
   ]
  },
  {
   "cell_type": "markdown",
   "id": "5397d934-122e-410a-952e-3d81efef3d15",
   "metadata": {},
   "source": [
    "#### Age Feature"
   ]
  },
  {
   "cell_type": "code",
   "execution_count": 48,
   "id": "bfd01844-b5ce-491a-8cf5-402bb8352e86",
   "metadata": {},
   "outputs": [
    {
     "data": {
      "text/plain": [
       "count    14993.000000\n",
       "mean        10.452078\n",
       "std         18.155790\n",
       "min          0.000000\n",
       "25%          2.000000\n",
       "50%          3.000000\n",
       "75%         12.000000\n",
       "max        255.000000\n",
       "Name: Age, dtype: float64"
      ]
     },
     "execution_count": 48,
     "metadata": {},
     "output_type": "execute_result"
    },
    {
     "data": {
      "image/png": "[encoded data removed]",
      "text/plain": [
       "<Figure size 432x288 with 1 Axes>"
      ]
     },
     "metadata": {
      "needs_background": "light"
     },
     "output_type": "display_data"
    }
   ],
   "source": [
    "sns.boxplot(data = ordinal, x = \"Age\")\n",
    "ordinal.Age.describe()\n",
    "#print(ordinal.Age.quantile(0.75))\n",
    "# counting how many outliers "
   ]
  },
  {
   "cell_type": "markdown",
   "id": "a36de52b-1e93-4ac1-a576-15e2424d1697",
   "metadata": {},
   "source": [
    "From the data we know that outlier start from 12 + (12-2)*1,5 = 27. "
   ]
  },
  {
   "cell_type": "code",
   "execution_count": 49,
   "id": "2b0bb815-e6a6-4232-992c-73ed686f52a4",
   "metadata": {},
   "outputs": [
    {
     "data": {
      "text/plain": [
       "1501"
      ]
     },
     "execution_count": 49,
     "metadata": {},
     "output_type": "execute_result"
    }
   ],
   "source": [
    "# Counting how many outlier we have\n",
    "ordinal[\"Age\"][ordinal[\"Age\"] > 27].count()"
   ]
  },
  {
   "cell_type": "markdown",
   "id": "ad2fff04-68a3-4792-938e-758a4f319c95",
   "metadata": {},
   "source": [
    "**Decision 1:** 1501 is 10,0% of the data. We will remove all the rows which has Age value more than 27."
   ]
  },
  {
   "cell_type": "markdown",
   "id": "5121f8a9-c2ac-4d11-9acc-374c7da28ff8",
   "metadata": {},
   "source": [
    "#### Fee Feature"
   ]
  },
  {
   "cell_type": "code",
   "execution_count": 50,
   "id": "700039d9-7854-45b5-8a2e-ca8574d1f788",
   "metadata": {},
   "outputs": [
    {
     "name": "stdout",
     "output_type": "stream",
     "text": [
      "count    2330.000000\n",
      "mean      136.803004\n",
      "std       154.166378\n",
      "min         1.000000\n",
      "25%        50.000000\n",
      "50%       100.000000\n",
      "75%       200.000000\n",
      "max      3000.000000\n",
      "Name: Fee, dtype: float64\n"
     ]
    },
    {
     "data": {
      "text/plain": [
       "<AxesSubplot:xlabel='Fee'>"
      ]
     },
     "execution_count": 50,
     "metadata": {},
     "output_type": "execute_result"
    },
    {
     "data": {
      "image/png": "[encoded data removed]",
      "text/plain": [
       "<Figure size 432x288 with 1 Axes>"
      ]
     },
     "metadata": {
      "needs_background": "light"
     },
     "output_type": "display_data"
    }
   ],
   "source": [
    "ordinal_fee = ordinal[ordinal[\"Fee\"] > 0]\n",
    "print(ordinal_fee[\"Fee\"].describe())\n",
    "sns.violinplot(data = ordinal_fee, x = \"Fee\")"
   ]
  },
  {
   "cell_type": "markdown",
   "id": "f36d11d1-3fa6-4342-a8bf-50dcaac1db80",
   "metadata": {},
   "source": [
    "Maximum of the data is (200-50)*1,5 + 200 = 375."
   ]
  },
  {
   "cell_type": "code",
   "execution_count": 51,
   "id": "bc257cf2-c80d-4884-933d-5c3cbaa81e51",
   "metadata": {},
   "outputs": [
    {
     "name": "stdout",
     "output_type": "stream",
     "text": [
      "148\n"
     ]
    }
   ],
   "source": [
    "# counting outlier\n",
    "print(sum(ordinal_fee[\"Fee\"] > 375))"
   ]
  },
  {
   "cell_type": "markdown",
   "id": "c1c06e44-6ad3-4a92-91db-0c807099fa8f",
   "metadata": {},
   "source": [
    "**Decision 2**: Remove rows with fee more than 375"
   ]
  },
  {
   "cell_type": "markdown",
   "id": "c5dfae6b-253b-4fc9-9422-84f2019ae009",
   "metadata": {},
   "source": [
    "#### Fur Lenght Feature"
   ]
  },
  {
   "cell_type": "code",
   "execution_count": 52,
   "id": "fb830e11-4bf4-442f-81bd-02e784b59f9d",
   "metadata": {},
   "outputs": [
    {
     "name": "stdout",
     "output_type": "stream",
     "text": [
      "FurLength\n",
      "1    8808\n",
      "2    5361\n",
      "3     824\n",
      "Name: FurLength, dtype: int64\n"
     ]
    },
    {
     "data": {
      "image/png": "[encoded data removed]",
      "text/plain": [
       "<Figure size 432x288 with 1 Axes>"
      ]
     },
     "metadata": {},
     "output_type": "display_data"
    }
   ],
   "source": [
    "pie_group = ordinal.groupby(\"FurLength\")[\"FurLength\"].count()\n",
    "print(pie_group)\n",
    "pie_group.plot.pie(autopct = lambda p: \"{:.0f}%\".format(p));"
   ]
  },
  {
   "cell_type": "markdown",
   "id": "a1b34b93-849b-4a76-80a2-1e3a7ea27ac3",
   "metadata": {},
   "source": [
    "Data is ready for PCA"
   ]
  },
  {
   "cell_type": "markdown",
   "id": "895a9e13-8a82-4810-958b-0dad2aa57174",
   "metadata": {},
   "source": [
    "#### Maturity Size"
   ]
  },
  {
   "cell_type": "code",
   "execution_count": 53,
   "id": "4333d5be-62d4-4786-bc6c-8f8fc8ea6a9d",
   "metadata": {},
   "outputs": [
    {
     "name": "stdout",
     "output_type": "stream",
     "text": [
      "MaturitySize\n",
      "1     3395\n",
      "2    10305\n",
      "3     1260\n",
      "4       33\n",
      "Name: MaturitySize, dtype: int64\n"
     ]
    },
    {
     "data": {
      "image/png": "[encoded data removed]",
      "text/plain": [
       "<Figure size 432x288 with 1 Axes>"
      ]
     },
     "metadata": {},
     "output_type": "display_data"
    }
   ],
   "source": [
    "pie_size = ordinal.groupby(\"MaturitySize\")[\"MaturitySize\"].count()\n",
    "print(pie_size)\n",
    "pie_size.plot.pie(autopct = lambda p: \"{:.0f}%\".format(p),textprops = {\"fontsize\":15});"
   ]
  },
  {
   "cell_type": "markdown",
   "id": "c6f1141b-9383-499c-b436-d16cb21db512",
   "metadata": {},
   "source": [
    "**Decision 3**: There are small amount of data that has value 4. we will impute the data to value 3 to make the model better"
   ]
  },
  {
   "cell_type": "markdown",
   "id": "562cd1a0-ab7b-451f-9dd4-3d08669e7417",
   "metadata": {},
   "source": [
    "#### Vaccinated, Dewormed, Sterilized Feature"
   ]
  },
  {
   "cell_type": "markdown",
   "id": "495e254b-cf87-4f35-848c-6ff93b1229ce",
   "metadata": {},
   "source": [
    "Make all pie chart for mentioned feature"
   ]
  },
  {
   "cell_type": "code",
   "execution_count": 58,
   "id": "9d533d89-4067-4186-a1b6-34122ce9ba7f",
   "metadata": {},
   "outputs": [
    {
     "name": "stdout",
     "output_type": "stream",
     "text": [
      "Vaccinated\n",
      "1    5898\n",
      "2    7227\n",
      "3    1868\n",
      "Name: Vaccinated, dtype: int64\n",
      "Dewormed\n",
      "1    8397\n",
      "2    4815\n",
      "3    1781\n",
      "Name: Dewormed, dtype: int64\n",
      "Sterilized\n",
      "1     3101\n",
      "2    10077\n",
      "3     1815\n",
      "Name: Sterilized, dtype: int64\n"
     ]
    }
   ],
   "source": [
    "X = [\"Vaccinated\", \"Dewormed\",\"Sterilized\"]\n",
    "for x in X:\n",
    "    pie_size = ordinal.groupby(x)[x].count()\n",
    "    print(pie_size)\n",
    "    #pie_size.plot.pie(autopct = lambda p: \"{:.0f}%\".format(p),textprops = {\"fontsize\":15});"
   ]
  },
  {
   "cell_type": "code",
   "execution_count": 65,
   "id": "2b3f4e7b-c6ba-46d7-bc4f-399245892182",
   "metadata": {},
   "outputs": [
    {
     "data": {
      "text/plain": [
       "(2716, 8)"
      ]
     },
     "execution_count": 65,
     "metadata": {},
     "output_type": "execute_result"
    }
   ],
   "source": [
    "# Analize every row that has value \"not sure\" or 3\n",
    "notsure = ordinal[(ordinal[\"Vaccinated\"] == 3 )| (ordinal[\"Dewormed\"] == 3 )|( ordinal[\"Sterilized\"]  ==3)]\n",
    "notsure.shape"
   ]
  },
  {
   "cell_type": "code",
   "execution_count": 69,
   "id": "1b69ab94-d063-48f8-b88c-98ec05f0c940",
   "metadata": {},
   "outputs": [
    {
     "ename": "AttributeError",
     "evalue": "'list' object has no attribute 'length'",
     "output_type": "error",
     "traceback": [
      "\u001b[1;31m---------------------------------------------------------------------------\u001b[0m",
      "\u001b[1;31mAttributeError\u001b[0m                            Traceback (most recent call last)",
      "\u001b[1;32m~\\AppData\\Local\\Temp/ipykernel_14536/2332408232.py\u001b[0m in \u001b[0;36m<module>\u001b[1;34m\u001b[0m\n\u001b[0;32m      2\u001b[0m \u001b[0ma\u001b[0m \u001b[1;33m=\u001b[0m \u001b[0mnotsure\u001b[0m\u001b[1;33m[\u001b[0m\u001b[1;34m\"Vaccinated\"\u001b[0m\u001b[1;33m]\u001b[0m\u001b[1;33m.\u001b[0m\u001b[0mindex\u001b[0m\u001b[1;33m.\u001b[0m\u001b[0mtolist\u001b[0m\u001b[1;33m(\u001b[0m\u001b[1;33m)\u001b[0m\u001b[1;33m\u001b[0m\u001b[1;33m\u001b[0m\u001b[0m\n\u001b[0;32m      3\u001b[0m \u001b[1;31m#print(a)\u001b[0m\u001b[1;33m\u001b[0m\u001b[1;33m\u001b[0m\u001b[1;33m\u001b[0m\u001b[0m\n\u001b[1;32m----> 4\u001b[1;33m \u001b[0mprint\u001b[0m\u001b[1;33m(\u001b[0m\u001b[0ma\u001b[0m\u001b[1;33m.\u001b[0m\u001b[0mlength\u001b[0m\u001b[1;33m)\u001b[0m\u001b[1;33m\u001b[0m\u001b[1;33m\u001b[0m\u001b[0m\n\u001b[0m",
      "\u001b[1;31mAttributeError\u001b[0m: 'list' object has no attribute 'length'"
     ]
    }
   ],
   "source": [
    "# make diagram venn\n",
    "a = notsure[\"Vaccinated\"].index.tolist()\n",
    "#print(a)\n",
    "print(a.length)"
   ]
  },
  {
   "cell_type": "code",
   "execution_count": null,
   "id": "2ef5ffbb-f99c-4daa-a649-bb11e3475b21",
   "metadata": {},
   "outputs": [],
   "source": []
  },
  {
   "cell_type": "markdown",
   "id": "434a76e8-65ff-4f6c-a2fd-f4d59cef93c1",
   "metadata": {},
   "source": [
    "#### Removing Age Outlier"
   ]
  },
  {
   "cell_type": "code",
   "execution_count": 33,
   "id": "93191864-4e21-4ed3-9d3a-4069fe6ad957",
   "metadata": {},
   "outputs": [
    {
     "data": {
      "text/plain": [
       "(13475, 7)"
      ]
     },
     "execution_count": 33,
     "metadata": {},
     "output_type": "execute_result"
    }
   ],
   "source": [
    "ordinal_1 = ordinal[ordinal[\"Age\"]<27]\n",
    "ordinal_1.shape"
   ]
  },
  {
   "cell_type": "markdown",
   "id": "e31375aa-589f-4c13-9382-4c72232a3650",
   "metadata": {
    "tags": []
   },
   "source": [
    "## Standardizing Table"
   ]
  },
  {
   "cell_type": "markdown",
   "id": "290ca6b5-91c8-44d1-87bc-dd17e39c87fa",
   "metadata": {},
   "source": [
    "### importing modul and scale the table"
   ]
  },
  {
   "cell_type": "code",
   "execution_count": 4,
   "id": "e029c4af-7e69-456a-afeb-1954b0171d0b",
   "metadata": {},
   "outputs": [
    {
     "name": "stdout",
     "output_type": "stream",
     "text": [
      "              0         1         2         3         4         5         6\n",
      "0     -0.410466 -1.573167  0.402608  0.634200  0.151502 -0.183518  1.004184\n",
      "1     -0.520627  0.251848  1.900450  2.071408  1.917809 -0.183518 -0.271132\n",
      "2     -0.520627  0.251848 -1.095234 -0.803007  0.151502 -0.183518 -0.271132\n",
      "3     -0.355385  0.251848 -1.095234 -0.803007  0.151502 -0.183518  1.641842\n",
      "4     -0.520627  0.251848  0.402608  0.634200  0.151502 -0.183518 -0.271132\n",
      "...         ...       ...       ...       ...       ...       ...       ...\n",
      "14988 -0.465546  0.251848  0.402608  0.634200  0.151502 -0.183518 -0.271132\n",
      "14989  2.729133  0.251848 -1.095234 -0.803007 -1.614805 -0.183518 -0.271132\n",
      "14990 -0.465546  2.076863  0.402608 -0.803007  1.917809 -0.183518  0.111463\n",
      "14991 -0.079981 -1.573167 -1.095234 -0.803007 -1.614805 -0.183518 -0.271132\n",
      "14992 -0.520627  0.251848  0.402608  0.634200  0.151502 -0.183518 -0.271132\n",
      "\n",
      "[14993 rows x 7 columns]\n"
     ]
    }
   ],
   "source": [
    "# import standard scaler module and standardized train the table\n",
    "from sklearn.preprocessing import StandardScaler\n",
    "\n",
    "table_unscaled = ordinal\n",
    "scaler = StandardScaler()\n",
    "table_scaled = pd.DataFrame(scaler.fit_transform(table_unscaled))\n",
    "print(table_scaled)"
   ]
  },
  {
   "cell_type": "markdown",
   "id": "2e665be8-aba9-4580-ba7b-734ff23f1436",
   "metadata": {},
   "source": [
    "### Naming the columns"
   ]
  },
  {
   "cell_type": "code",
   "execution_count": 5,
   "id": "b1dbeacf-4c55-4a3c-9c20-5a6bf6227a97",
   "metadata": {},
   "outputs": [
    {
     "name": "stdout",
     "output_type": "stream",
     "text": [
      "            Age  MaturitySize  Vaccinated  Dewormed  Sterilized    Health  \\\n",
      "0     -0.410466     -1.573167    0.402608  0.634200    0.151502 -0.183518   \n",
      "1     -0.520627      0.251848    1.900450  2.071408    1.917809 -0.183518   \n",
      "2     -0.520627      0.251848   -1.095234 -0.803007    0.151502 -0.183518   \n",
      "3     -0.355385      0.251848   -1.095234 -0.803007    0.151502 -0.183518   \n",
      "4     -0.520627      0.251848    0.402608  0.634200    0.151502 -0.183518   \n",
      "...         ...           ...         ...       ...         ...       ...   \n",
      "14988 -0.465546      0.251848    0.402608  0.634200    0.151502 -0.183518   \n",
      "14989  2.729133      0.251848   -1.095234 -0.803007   -1.614805 -0.183518   \n",
      "14990 -0.465546      2.076863    0.402608 -0.803007    1.917809 -0.183518   \n",
      "14991 -0.079981     -1.573167   -1.095234 -0.803007   -1.614805 -0.183518   \n",
      "14992 -0.520627      0.251848    0.402608  0.634200    0.151502 -0.183518   \n",
      "\n",
      "            Fee  \n",
      "0      1.004184  \n",
      "1     -0.271132  \n",
      "2     -0.271132  \n",
      "3      1.641842  \n",
      "4     -0.271132  \n",
      "...         ...  \n",
      "14988 -0.271132  \n",
      "14989 -0.271132  \n",
      "14990  0.111463  \n",
      "14991 -0.271132  \n",
      "14992 -0.271132  \n",
      "\n",
      "[14993 rows x 7 columns]\n"
     ]
    }
   ],
   "source": [
    "table_scaled.set_axis(ordinal_feature, axis = 1, inplace = True)\n",
    "print(table_scaled)"
   ]
  },
  {
   "cell_type": "markdown",
   "id": "b0bbd0b6-f2dd-4b1b-892b-4c61ae1b2fe2",
   "metadata": {},
   "source": [
    "## Using PCA to determine most impactful feature"
   ]
  },
  {
   "cell_type": "markdown",
   "id": "903225c0-e8a2-425d-8951-c5c664909659",
   "metadata": {},
   "source": [
    "### Basic Understanding"
   ]
  },
  {
   "cell_type": "markdown",
   "id": "9bed4fca-5404-4712-bdce-ae1862804fc1",
   "metadata": {},
   "source": [
    "*\"PCA (Principal Components Analysis) gives us our ideal set of features. It creates a set of principal components that are rank ordered by variance (the first component has higher variance than the second, the second has higher variance than the third, and so on), uncorrelated, and low in number (we can throw away the lower ranked components as they contain little signal).\"*\n",
    "\n",
    "Source: [Understanding PCA (Principal Components Analysis) by Tony Yiu (Towards Data Science)](https://towardsdatascience.com/understanding-pca-fae3e243731d)"
   ]
  },
  {
   "cell_type": "markdown",
   "id": "595b6be1-d9ec-491e-898e-4fbe79d6af43",
   "metadata": {},
   "source": [
    "*\"PCA is essentially a method that reduces the dimension of the feature space in such a way that new variables are orthogonal to each other (i.e. they are independent or not correlated). Before applying PCA, we scale our data such that each feature has unit variance. This is necessary because fitting algorithms highly depend on the scaling of the features. While applying PCA you can mention how many **principal** components you want to keep.*\n",
    "\n",
    "*PCA works its magic by repeatedly asking and answering the following questions:*\n",
    "1. *At the very start of the process, PCA asks what is the strongest underlying trend in the feature set (we will call this component 1)?*.\n",
    "2. *Next PCA asks what is the second strongest underlying trend in the feature set that also happens to be uncorrelated with component 1 (we will call it component 2)?*\n",
    "3. *Then PCA asks what is the third strongest underlying trend in the feature set that also happens to be uncorrelated with both components 1 and 2 (we will call it component 3)?*\n",
    "4. *And so on…*\n",
    "\n",
    "*StandardScalersubtracts the mean from each features and then scale to unit variance.\"*\n",
    "\n",
    "Source: [Understanding PCA (Principal Component Analysis) with Python by \n",
    "Saptashwa Bhattacharyya (Towards Data Science)](https://towardsdatascience.com/dive-into-pca-principal-component-analysis-with-python-43ded13ead21)"
   ]
  },
  {
   "cell_type": "markdown",
   "id": "fa0c7d34-80d4-467e-8342-37ed9987a3c9",
   "metadata": {},
   "source": [
    "*\"PCA reduce dimensionality of the data using feature extraction. It does this by using variables that help explain most variability of the data in the dataset*\n",
    "\n",
    "*PCA removes redundant information by removing correlated features. PCA creates new independent variables that are independent from each other. This takes care of multicollinearity issue.*\n",
    "\n",
    "*PCA is an unsupervised technique. **It only looks at the input features and does not take into account the output or the target variable**.\"*\n",
    "\n",
    "Source: [Principal Component Analysis (PCA) by Renu Khandelwal (Towards Data Science)](https://medium.datadriveninvestor.com/principal-component-analysis-pca-a0c5715bc9a2)"
   ]
  },
  {
   "cell_type": "markdown",
   "id": "9303580d-32e5-4cd7-9695-c302ddd8999c",
   "metadata": {
    "tags": []
   },
   "source": [
    "### Using PCA"
   ]
  },
  {
   "cell_type": "markdown",
   "id": "fe5818c4-02e6-42e8-b5a1-4be99991d6dd",
   "metadata": {
    "tags": []
   },
   "source": [
    "#### Making 3 Principle"
   ]
  },
  {
   "cell_type": "markdown",
   "id": "11fa5e47-c3e7-495e-9caa-b991d0c2e0e0",
   "metadata": {},
   "source": [
    "We want to select best 3 feature for target variable."
   ]
  },
  {
   "cell_type": "code",
   "execution_count": 6,
   "id": "0eb211d6-9dc5-4495-b50b-949b69284bfc",
   "metadata": {},
   "outputs": [
    {
     "name": "stdout",
     "output_type": "stream",
     "text": [
      "shape of X_pca (14993, 3)\n",
      "[[-0.77433433 -0.47702227 -0.39870028]\n",
      " [-3.34232576  0.09011654  0.86728681]\n",
      " [ 0.94210341 -0.70739832  0.01482316]\n",
      " ...\n",
      " [-0.51391741  0.1379766   1.81445782]\n",
      " [ 1.66124487 -0.96382762 -1.50878669]\n",
      " [-0.76786588 -0.28871688  0.31880701]]\n"
     ]
    }
   ],
   "source": [
    "from sklearn.decomposition import PCA\n",
    "pca=PCA(n_components=3) \n",
    "pca.fit(table_scaled) \n",
    "table_pca=pca.transform(table_scaled) \n",
    "#let's check the shape of X_pca array\n",
    "print (\"shape of X_pca\", table_pca.shape)\n",
    "print(table_pca)"
   ]
  },
  {
   "cell_type": "code",
   "execution_count": 11,
   "id": "8fd23d3a-d4ab-49e7-919e-cc56d921f1df",
   "metadata": {},
   "outputs": [
    {
     "name": "stdout",
     "output_type": "stream",
     "text": [
      "shape of X_pca (14993, 3)\n",
      "[[-0.77433433 -0.47702227 -0.39870028]\n",
      " [-3.34232576  0.09011654  0.86728681]\n",
      " [ 0.94210341 -0.70739832  0.01482316]\n",
      " ...\n",
      " [-0.51391741  0.1379766   1.81445782]\n",
      " [ 1.66124487 -0.96382762 -1.50878669]\n",
      " [-0.76786588 -0.28871688  0.31880701]]\n"
     ]
    }
   ],
   "source": [
    "from sklearn.decomposition import PCA\n",
    "pca=PCA(n_components=3) \n",
    "pca.fit(table_scaled) \n",
    "table_pca=pca.transform(table_scaled) \n",
    "print (\"shape of X_pca\", table_pca.shape)\n",
    "print(table_pca)"
   ]
  },
  {
   "cell_type": "markdown",
   "id": "1eef2286-6aec-4d84-97eb-1f46eab031fd",
   "metadata": {},
   "source": [
    "Table has now only 3 principal components"
   ]
  }
 ],
 "metadata": {
  "kernelspec": {
   "display_name": "Python 3 (ipykernel)",
   "language": "python",
   "name": "python3"
  },
  "language_info": {
   "codemirror_mode": {
    "name": "ipython",
    "version": 3
   },
   "file_extension": ".py",
   "mimetype": "text/x-python",
   "name": "python",
   "nbconvert_exporter": "python",
   "pygments_lexer": "ipython3",
   "version": "3.8.11"
  },
  "toc-autonumbering": true,
  "toc-showcode": false,
  "toc-showmarkdowntxt": true,
  "toc-showtags": false
 },
 "nbformat": 4,
 "nbformat_minor": 5
}
