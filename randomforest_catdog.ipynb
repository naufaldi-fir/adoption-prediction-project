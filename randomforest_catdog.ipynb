{
 "cells": [
  {
   "cell_type": "code",
   "execution_count": 76,
   "metadata": {},
   "outputs": [
    {
     "name": "stdout",
     "output_type": "stream",
     "text": [
      "0.254699736960053\n"
     ]
    }
   ],
   "source": [
    "import pandas as pd\r\n",
    "import numpy as np\r\n",
    "from sklearn.preprocessing import StandardScaler\r\n",
    "from sklearn.model_selection import train_test_split\r\n",
    "from sklearn.metrics import cohen_kappa_score\r\n",
    "from sklearn.ensemble import RandomForestClassifier\r\n",
    "from sklearn.datasets import make_classification\r\n",
    "\r\n",
    "\r\n",
    "#Load the data and split the data into dog and cat\r\n",
    "train=pd.read_csv('train.csv')\r\n",
    "train_dog=train[train['Type']==1]\r\n",
    "train_cat=train[train['Type']==2]\r\n",
    "\r\n",
    "#All features, that do not require further preprocessing: \r\n",
    "#['Type', 'Age', 'Gender', 'MaturitySize', 'FurLength', 'Vaccinated', 'Dewormed', 'Sterilized', 'Health', 'Quantity', 'Fee']\r\n",
    "feature_cols=['Type', 'Age', 'Gender', 'MaturitySize', 'FurLength', 'Vaccinated', 'Dewormed', 'Sterilized', 'Health', 'Quantity', 'Fee']\r\n",
    "\r\n",
    "#Define y and X\r\n",
    "\r\n",
    "y=train.AdoptionSpeed\r\n",
    "X_unscaled=train[feature_cols]\r\n",
    "#Scale all features\r\n",
    "scaler=StandardScaler()\r\n",
    "X_scaled=scaler.fit_transform(X_unscaled)\r\n",
    "X=pd.DataFrame(X_scaled)\r\n",
    "\r\n",
    "#Use RandomForest\r\n",
    "X_train, X_test, y_train, y_test = train_test_split(X, y, test_size=0.4, random_state=42)\r\n",
    "X, y = make_classification(n_samples=1000, n_features=4, n_informative=2, n_redundant=0, random_state=0, shuffle=False)\r\n",
    "clf = RandomForestClassifier(n_estimators=170, max_depth=11, random_state=0)\r\n",
    "clf.fit(X_train, y_train)\r\n",
    "y_pred=clf.predict(X_test)\r\n",
    "\r\n",
    "#Print out the quadratic weighted kappa score\r\n",
    "print(cohen_kappa_score(y_pred, y_test, weights='quadratic'))"
   ]
  },
  {
   "cell_type": "markdown",
   "metadata": {},
   "source": [
    "Insights: \r\n",
    "- For some reason, changing the order of the features in the feature_cols list makes a difference in the score\r\n",
    "- By just randomly changing some of the parameters, I got a higher score than with the knn model\r\n",
    "- While changing the parameters for the only cat dataframe, I even got a score of 0.29 at one point "
   ]
  }
 ],
 "metadata": {
  "interpreter": {
   "hash": "2a63215fbb79f5e6055094b66a64ec41290143e1b1eeee0d1cd51cecfe4e3566"
  },
  "kernelspec": {
   "display_name": "Python 2.7.15 64-bit ('base': conda)",
   "name": "python3"
  },
  "language_info": {
   "codemirror_mode": {
    "name": "ipython",
    "version": 2
   },
   "file_extension": ".py",
   "mimetype": "text/x-python",
   "name": "python",
   "nbconvert_exporter": "python",
   "pygments_lexer": "ipython2",
   "version": "2.7.15"
  },
  "orig_nbformat": 4
 },
 "nbformat": 4,
 "nbformat_minor": 2
}