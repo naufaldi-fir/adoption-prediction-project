{
 "cells": [
  {
   "cell_type": "code",
   "execution_count": 3,
   "source": [
    "import pandas as pd\r\n",
    "import numpy as np\r\n",
    "from sklearn.preprocessing import StandardScaler\r\n",
    "from sklearn.model_selection import train_test_split\r\n",
    "from sklearn.metrics import cohen_kappa_score\r\n",
    "from sklearn.ensemble import RandomForestClassifier\r\n",
    "from sklearn.datasets import make_classification\r\n",
    "\r\n",
    "\r\n",
    "#Load the data \r\n",
    "train=pd.read_csv('train.csv')\r\n",
    "\r\n",
    "#All features, that do not require further preprocessing: \r\n",
    "#['Type', 'Age', 'Gender', 'MaturitySize', 'FurLength', 'Vaccinated', 'Dewormed', 'Sterilized', 'Health', 'Quantity', 'Fee']\r\n",
    "feature_cols=['Type', 'Age', 'Gender', 'MaturitySize', 'FurLength', 'Vaccinated', 'Dewormed', 'Sterilized', 'Health', 'Quantity', 'Fee']\r\n",
    "\r\n",
    "#Define y and X\r\n",
    "y=train.AdoptionSpeed\r\n",
    "X_unscaled=train[feature_cols]\r\n",
    "#Scale all features\r\n",
    "scaler=StandardScaler()\r\n",
    "X_scaled=scaler.fit_transform(X_unscaled)\r\n",
    "X=pd.DataFrame(X_scaled)\r\n",
    "#set train and test data\r\n",
    "X_train, X_test, y_train, y_test = train_test_split(X, y, test_size=0.4, random_state=42)\r\n",
    "\r\n",
    "\r\n",
    "\r\n",
    "#Use RandomForest\r\n",
    "X, y = make_classification(n_samples=1000, n_features=4, n_informative=2, n_redundant=0, random_state=0, shuffle=False)\r\n",
    "X, y = make_classification(random_state=0)\r\n",
    "clf = RandomForestClassifier(n_estimators=170, max_depth=11, random_state=1)\r\n",
    "clf.fit(X_train, y_train)\r\n",
    "y_pred=clf.predict(X_test)\r\n",
    "\r\n",
    "\r\n",
    "#Print out the quadratic weighted kappa score\r\n",
    "print(cohen_kappa_score(y_pred, y_test, weights='quadratic'))"
   ],
   "outputs": [
    {
     "output_type": "stream",
     "name": "stdout",
     "text": [
      "0.2795128701156413\n"
     ]
    }
   ],
   "metadata": {}
  }
 ],
 "metadata": {
  "interpreter": {
   "hash": "2a63215fbb79f5e6055094b66a64ec41290143e1b1eeee0d1cd51cecfe4e3566"
  },
  "kernelspec": {
   "name": "python3",
   "display_name": "Python 2.7.15 64-bit ('base': conda)"
  },
  "language_info": {
   "codemirror_mode": {
    "name": "ipython",
    "version": 2
   },
   "file_extension": ".py",
   "mimetype": "text/x-python",
   "name": "python",
   "nbconvert_exporter": "python",
   "pygments_lexer": "ipython2",
   "version": "2.7.15"
  },
  "orig_nbformat": 4
 },
 "nbformat": 4,
 "nbformat_minor": 2
}