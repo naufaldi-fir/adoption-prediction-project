{
 "cells": [
  {
   "cell_type": "markdown",
   "metadata": {},
   "source": [
    "## Naufaldi Attributes\n",
    "Exploration on Age, Gender, Maturity Size, FurLength and Quantity"
   ]
  },
  {
   "cell_type": "markdown",
   "metadata": {},
   "source": [
    "After exploration, all attributes don't have missing values and clean"
   ]
  },
  {
   "cell_type": "code",
   "execution_count": 24,
   "metadata": {},
   "outputs": [],
   "source": [
    "#import package\n",
    "import pandas as pd\n",
    "import matplotlib.pyplot as plt\n",
    "import seaborn as sns"
   ]
  },
  {
   "cell_type": "code",
   "execution_count": 25,
   "metadata": {},
   "outputs": [],
   "source": [
    "#df = pd.read_csv(\"train.csv\")"
   ]
  },
  {
   "cell_type": "code",
   "execution_count": 26,
   "metadata": {},
   "outputs": [],
   "source": [
    "#Importing data from GitHub\n",
    "url = \"https://raw.githubusercontent.com/naufaldi-fir/adoption-prediction-project/main/Data%20Set/test.csv\"\n",
    "df = pd.read_csv(url)"
   ]
  },
  {
   "cell_type": "code",
   "execution_count": 27,
   "metadata": {},
   "outputs": [
    {
     "name": "stdout",
     "output_type": "stream",
     "text": [
      "   Type                       Name  Age  Breed1  Breed2  Gender  Color1  \\\n",
      "0     2               Dopey & Grey    8     266     266       1       2   \n",
      "1     2                    Chi Chi   36     285     264       2       1   \n",
      "2     2                     Sticky    2     265       0       1       6   \n",
      "3     1  Dannie & Kass [In Penang]   12     307       0       2       2   \n",
      "4     2                    Cuddles   12     265       0       1       2   \n",
      "5     2                   Porridge    4     265       0       1       6   \n",
      "6     2      Sultan [In Shah Alam]   24     265       0       1       6   \n",
      "7     2  The Four Musketeers (one)    1     265       0       1       1   \n",
      "8     2            Timmy And Boboy    7     247     266       3       2   \n",
      "9     1                   Precious   36      76     307       2       7   \n",
      "\n",
      "   Color2  Color3  MaturitySize  ...  Sterilized  Health  Quantity  Fee  \\\n",
      "0       6       7             1  ...           2       1         2    0   \n",
      "1       4       7             2  ...           1       2         1    0   \n",
      "2       7       0             2  ...           2       1         1  200   \n",
      "3       5       0             2  ...           1       1         2    0   \n",
      "4       3       7             2  ...           1       1         1    0   \n",
      "5       7       0             2  ...           2       1         1    0   \n",
      "6       7       0             2  ...           1       1         1    0   \n",
      "7       6       7             2  ...           2       1         4    0   \n",
      "8       4       5             2  ...           1       1         2    0   \n",
      "9       0       0             2  ...           2       1         1    0   \n",
      "\n",
      "   State                         RescuerID  VideoAmt  \\\n",
      "0  41326  2ece3b2573dcdcebd774e635dca15fd9         0   \n",
      "1  41326  2ece3b2573dcdcebd774e635dca15fd9         0   \n",
      "2  41326  e59c106e9912fa30c898976278c2e834         0   \n",
      "3  41326  e59c106e9912fa30c898976278c2e834         0   \n",
      "4  41326  e59c106e9912fa30c898976278c2e834         0   \n",
      "5  41326  e59c106e9912fa30c898976278c2e834         0   \n",
      "6  41326  e59c106e9912fa30c898976278c2e834         0   \n",
      "7  41326  e59c106e9912fa30c898976278c2e834         0   \n",
      "8  41326  df3f86a2d783512e0d863a47c55a86b7         0   \n",
      "9  41324  6f73a23fdb52bc9a30dc788fe6ccc7f6         0   \n",
      "\n",
      "                                         Description      PetID  PhotoAmt  \n",
      "0  Dopey Age: 8mths old Male One half of a pair, ...  e2dfc2935       2.0  \n",
      "1  Please note that Chichi has been neutered, the...  f153b465f       1.0  \n",
      "2  Sticky, named such because of his tendency to ...  3c90f3f54       4.0  \n",
      "3  Dannie and Kass are mother and daughter. We en...  e02abc8a3       5.0  \n",
      "4  Extremely cuddly cat, hence the origin of his ...  09f0df7d1       5.0  \n",
      "5  Porridge the cat is looking for a place to cal...  0487529d4       3.0  \n",
      "6  We first met Sultan on our campus hiding from ...  bae7c4b1c       2.0  \n",
      "7  These 4 darlings were found on our university ...  548bcf206       3.0  \n",
      "8  Saya ada 2 ekor kitten untuk diberi secara PER...  0f82cea1e       2.0  \n",
      "9  Hi, i have a dalmamation mix female dog to giv...  a3787f15e       9.0  \n",
      "\n",
      "[10 rows x 23 columns]\n"
     ]
    }
   ],
   "source": [
    "print(df.head(10))"
   ]
  },
  {
   "cell_type": "code",
   "execution_count": 28,
   "metadata": {},
   "outputs": [
    {
     "name": "stdout",
     "output_type": "stream",
     "text": [
      "<class 'pandas.core.frame.DataFrame'>\n",
      "RangeIndex: 3972 entries, 0 to 3971\n",
      "Data columns (total 23 columns):\n",
      " #   Column        Non-Null Count  Dtype  \n",
      "---  ------        --------------  -----  \n",
      " 0   Type          3972 non-null   int64  \n",
      " 1   Name          3561 non-null   object \n",
      " 2   Age           3972 non-null   int64  \n",
      " 3   Breed1        3972 non-null   int64  \n",
      " 4   Breed2        3972 non-null   int64  \n",
      " 5   Gender        3972 non-null   int64  \n",
      " 6   Color1        3972 non-null   int64  \n",
      " 7   Color2        3972 non-null   int64  \n",
      " 8   Color3        3972 non-null   int64  \n",
      " 9   MaturitySize  3972 non-null   int64  \n",
      " 10  FurLength     3972 non-null   int64  \n",
      " 11  Vaccinated    3972 non-null   int64  \n",
      " 12  Dewormed      3972 non-null   int64  \n",
      " 13  Sterilized    3972 non-null   int64  \n",
      " 14  Health        3972 non-null   int64  \n",
      " 15  Quantity      3972 non-null   int64  \n",
      " 16  Fee           3972 non-null   int64  \n",
      " 17  State         3972 non-null   int64  \n",
      " 18  RescuerID     3972 non-null   object \n",
      " 19  VideoAmt      3972 non-null   int64  \n",
      " 20  Description   3971 non-null   object \n",
      " 21  PetID         3972 non-null   object \n",
      " 22  PhotoAmt      3972 non-null   float64\n",
      "dtypes: float64(1), int64(18), object(4)\n",
      "memory usage: 713.8+ KB\n"
     ]
    }
   ],
   "source": [
    "df.info()"
   ]
  },
  {
   "cell_type": "markdown",
   "metadata": {},
   "source": [
    "general_insight_1: name and description columns have less non-null count."
   ]
  },
  {
   "cell_type": "markdown",
   "metadata": {},
   "source": [
    "faizan insight 05/06/21 from his notebook"
   ]
  },
  {
   "cell_type": "markdown",
   "metadata": {},
   "source": [
    "Insight_1: There are 14993 (around 15k animals in the dataset)\n",
    "Insight_2: There are less names and descriptions (13736 and 14981 respectively) than the number of animals which implies that not all animals have a name\n",
    "Insight_3: For majority of the animals, there was no adoption after 100 days of being listed.\n",
    "Insight_4: There are more number of dogs than cats in the dataset\n",
    "Insight_5: Majority of the animals are healthy"
   ]
  },
  {
   "cell_type": "code",
   "execution_count": 29,
   "metadata": {},
   "outputs": [
    {
     "data": {
      "text/html": [
       "<div>\n",
       "<style scoped>\n",
       "    .dataframe tbody tr th:only-of-type {\n",
       "        vertical-align: middle;\n",
       "    }\n",
       "\n",
       "    .dataframe tbody tr th {\n",
       "        vertical-align: top;\n",
       "    }\n",
       "\n",
       "    .dataframe thead th {\n",
       "        text-align: right;\n",
       "    }\n",
       "</style>\n",
       "<table border=\"1\" class=\"dataframe\">\n",
       "  <thead>\n",
       "    <tr style=\"text-align: right;\">\n",
       "      <th></th>\n",
       "      <th>Type</th>\n",
       "      <th>Name</th>\n",
       "      <th>Age</th>\n",
       "      <th>Breed1</th>\n",
       "      <th>Breed2</th>\n",
       "      <th>Gender</th>\n",
       "      <th>Color1</th>\n",
       "      <th>Color2</th>\n",
       "      <th>Color3</th>\n",
       "      <th>MaturitySize</th>\n",
       "      <th>...</th>\n",
       "      <th>Sterilized</th>\n",
       "      <th>Health</th>\n",
       "      <th>Quantity</th>\n",
       "      <th>Fee</th>\n",
       "      <th>State</th>\n",
       "      <th>RescuerID</th>\n",
       "      <th>VideoAmt</th>\n",
       "      <th>Description</th>\n",
       "      <th>PetID</th>\n",
       "      <th>PhotoAmt</th>\n",
       "    </tr>\n",
       "  </thead>\n",
       "  <tbody>\n",
       "    <tr>\n",
       "      <th>0</th>\n",
       "      <td>Cat</td>\n",
       "      <td>Dopey &amp; Grey</td>\n",
       "      <td>8</td>\n",
       "      <td>266</td>\n",
       "      <td>266</td>\n",
       "      <td>1</td>\n",
       "      <td>2</td>\n",
       "      <td>6</td>\n",
       "      <td>7</td>\n",
       "      <td>1</td>\n",
       "      <td>...</td>\n",
       "      <td>2</td>\n",
       "      <td>1</td>\n",
       "      <td>2</td>\n",
       "      <td>0</td>\n",
       "      <td>41326</td>\n",
       "      <td>2ece3b2573dcdcebd774e635dca15fd9</td>\n",
       "      <td>0</td>\n",
       "      <td>Dopey Age: 8mths old Male One half of a pair, ...</td>\n",
       "      <td>e2dfc2935</td>\n",
       "      <td>2.0</td>\n",
       "    </tr>\n",
       "    <tr>\n",
       "      <th>1</th>\n",
       "      <td>Cat</td>\n",
       "      <td>Chi Chi</td>\n",
       "      <td>36</td>\n",
       "      <td>285</td>\n",
       "      <td>264</td>\n",
       "      <td>2</td>\n",
       "      <td>1</td>\n",
       "      <td>4</td>\n",
       "      <td>7</td>\n",
       "      <td>2</td>\n",
       "      <td>...</td>\n",
       "      <td>1</td>\n",
       "      <td>2</td>\n",
       "      <td>1</td>\n",
       "      <td>0</td>\n",
       "      <td>41326</td>\n",
       "      <td>2ece3b2573dcdcebd774e635dca15fd9</td>\n",
       "      <td>0</td>\n",
       "      <td>Please note that Chichi has been neutered, the...</td>\n",
       "      <td>f153b465f</td>\n",
       "      <td>1.0</td>\n",
       "    </tr>\n",
       "    <tr>\n",
       "      <th>2</th>\n",
       "      <td>Cat</td>\n",
       "      <td>Sticky</td>\n",
       "      <td>2</td>\n",
       "      <td>265</td>\n",
       "      <td>0</td>\n",
       "      <td>1</td>\n",
       "      <td>6</td>\n",
       "      <td>7</td>\n",
       "      <td>0</td>\n",
       "      <td>2</td>\n",
       "      <td>...</td>\n",
       "      <td>2</td>\n",
       "      <td>1</td>\n",
       "      <td>1</td>\n",
       "      <td>200</td>\n",
       "      <td>41326</td>\n",
       "      <td>e59c106e9912fa30c898976278c2e834</td>\n",
       "      <td>0</td>\n",
       "      <td>Sticky, named such because of his tendency to ...</td>\n",
       "      <td>3c90f3f54</td>\n",
       "      <td>4.0</td>\n",
       "    </tr>\n",
       "    <tr>\n",
       "      <th>3</th>\n",
       "      <td>Dog</td>\n",
       "      <td>Dannie &amp; Kass [In Penang]</td>\n",
       "      <td>12</td>\n",
       "      <td>307</td>\n",
       "      <td>0</td>\n",
       "      <td>2</td>\n",
       "      <td>2</td>\n",
       "      <td>5</td>\n",
       "      <td>0</td>\n",
       "      <td>2</td>\n",
       "      <td>...</td>\n",
       "      <td>1</td>\n",
       "      <td>1</td>\n",
       "      <td>2</td>\n",
       "      <td>0</td>\n",
       "      <td>41326</td>\n",
       "      <td>e59c106e9912fa30c898976278c2e834</td>\n",
       "      <td>0</td>\n",
       "      <td>Dannie and Kass are mother and daughter. We en...</td>\n",
       "      <td>e02abc8a3</td>\n",
       "      <td>5.0</td>\n",
       "    </tr>\n",
       "    <tr>\n",
       "      <th>4</th>\n",
       "      <td>Cat</td>\n",
       "      <td>Cuddles</td>\n",
       "      <td>12</td>\n",
       "      <td>265</td>\n",
       "      <td>0</td>\n",
       "      <td>1</td>\n",
       "      <td>2</td>\n",
       "      <td>3</td>\n",
       "      <td>7</td>\n",
       "      <td>2</td>\n",
       "      <td>...</td>\n",
       "      <td>1</td>\n",
       "      <td>1</td>\n",
       "      <td>1</td>\n",
       "      <td>0</td>\n",
       "      <td>41326</td>\n",
       "      <td>e59c106e9912fa30c898976278c2e834</td>\n",
       "      <td>0</td>\n",
       "      <td>Extremely cuddly cat, hence the origin of his ...</td>\n",
       "      <td>09f0df7d1</td>\n",
       "      <td>5.0</td>\n",
       "    </tr>\n",
       "  </tbody>\n",
       "</table>\n",
       "<p>5 rows × 23 columns</p>\n",
       "</div>"
      ],
      "text/plain": [
       "  Type                       Name  Age  Breed1  Breed2  Gender  Color1  \\\n",
       "0  Cat               Dopey & Grey    8     266     266       1       2   \n",
       "1  Cat                    Chi Chi   36     285     264       2       1   \n",
       "2  Cat                     Sticky    2     265       0       1       6   \n",
       "3  Dog  Dannie & Kass [In Penang]   12     307       0       2       2   \n",
       "4  Cat                    Cuddles   12     265       0       1       2   \n",
       "\n",
       "   Color2  Color3  MaturitySize  ...  Sterilized  Health  Quantity  Fee  \\\n",
       "0       6       7             1  ...           2       1         2    0   \n",
       "1       4       7             2  ...           1       2         1    0   \n",
       "2       7       0             2  ...           2       1         1  200   \n",
       "3       5       0             2  ...           1       1         2    0   \n",
       "4       3       7             2  ...           1       1         1    0   \n",
       "\n",
       "   State                         RescuerID  VideoAmt  \\\n",
       "0  41326  2ece3b2573dcdcebd774e635dca15fd9         0   \n",
       "1  41326  2ece3b2573dcdcebd774e635dca15fd9         0   \n",
       "2  41326  e59c106e9912fa30c898976278c2e834         0   \n",
       "3  41326  e59c106e9912fa30c898976278c2e834         0   \n",
       "4  41326  e59c106e9912fa30c898976278c2e834         0   \n",
       "\n",
       "                                         Description      PetID  PhotoAmt  \n",
       "0  Dopey Age: 8mths old Male One half of a pair, ...  e2dfc2935       2.0  \n",
       "1  Please note that Chichi has been neutered, the...  f153b465f       1.0  \n",
       "2  Sticky, named such because of his tendency to ...  3c90f3f54       4.0  \n",
       "3  Dannie and Kass are mother and daughter. We en...  e02abc8a3       5.0  \n",
       "4  Extremely cuddly cat, hence the origin of his ...  09f0df7d1       5.0  \n",
       "\n",
       "[5 rows x 23 columns]"
      ]
     },
     "execution_count": 29,
     "metadata": {},
     "output_type": "execute_result"
    }
   ],
   "source": [
    "mapping = {1:\"Dog\", 2:\"Cat\"}\n",
    "df[\"Type\"]  = df[\"Type\"].replace(mapping)\n",
    "df.head()"
   ]
  },
  {
   "cell_type": "markdown",
   "metadata": {},
   "source": [
    "### Age "
   ]
  },
  {
   "cell_type": "code",
   "execution_count": 30,
   "metadata": {},
   "outputs": [],
   "source": [
    "# Age distribution attribute mit box plot. Age in months\n",
    "# df.plot(kind = \"box\", y = \"Age\")"
   ]
  },
  {
   "cell_type": "markdown",
   "metadata": {},
   "source": [
    "plotting with box plot doesn't show clear picture about distribution"
   ]
  },
  {
   "cell_type": "code",
   "execution_count": 31,
   "metadata": {},
   "outputs": [
    {
     "data": {
      "text/plain": [
       "<AxesSubplot:xlabel='Age'>"
      ]
     },
     "execution_count": 31,
     "metadata": {},
     "output_type": "execute_result"
    },
    {
     "data": {
      "image/png": "[encoded data removed]",
      "text/plain": [
       "<Figure size 432x288 with 1 Axes>"
      ]
     },
     "metadata": {
      "needs_background": "light"
     },
     "output_type": "display_data"
    }
   ],
   "source": [
    "# Age distribution with violin plot\n",
    "sns.violinplot(data = df, x = \"Age\", orient = \"h\", xlabel = \"test\")"
   ]
  },
  {
   "cell_type": "code",
   "execution_count": 32,
   "metadata": {},
   "outputs": [
    {
     "data": {
      "text/plain": [
       "count    3972.000000\n",
       "mean       11.290534\n",
       "std        17.497150\n",
       "min         0.000000\n",
       "25%         2.000000\n",
       "50%         4.000000\n",
       "75%        12.000000\n",
       "max       156.000000\n",
       "Name: Age, dtype: float64"
      ]
     },
     "execution_count": 32,
     "metadata": {},
     "output_type": "execute_result"
    }
   ],
   "source": [
    "df.Age.describe()"
   ]
  },
  {
   "cell_type": "markdown",
   "metadata": {},
   "source": [
    "Age_insight_1: 50% of pet is under 3 months, and 75% under 12 months."
   ]
  },
  {
   "cell_type": "code",
   "execution_count": 33,
   "metadata": {},
   "outputs": [
    {
     "data": {
      "text/plain": [
       "<AxesSubplot:xlabel='Age'>"
      ]
     },
     "execution_count": 33,
     "metadata": {},
     "output_type": "execute_result"
    },
    {
     "data": {
      "image/png": "[encoded data removed]",
      "text/plain": [
       "<Figure size 432x288 with 1 Axes>"
      ]
     },
     "metadata": {
      "needs_background": "light"
     },
     "output_type": "display_data"
    }
   ],
   "source": [
    "#Age distribution under 50 months\n",
    "sns.violinplot(data = df[(df.Age < 50)],x = \"Age\", orient = \"h\", inner = None)"
   ]
  },
  {
   "cell_type": "markdown",
   "metadata": {},
   "source": [
    "### Comparing Cat and Dog Age Distribution"
   ]
  },
  {
   "cell_type": "code",
   "execution_count": 36,
   "metadata": {},
   "outputs": [
    {
     "data": {
      "text/plain": [
       "<AxesSubplot:xlabel='Age', ylabel='Type'>"
      ]
     },
     "execution_count": 36,
     "metadata": {},
     "output_type": "execute_result"
    },
    {
     "data": {
      "image/png": "[encoded data removed]",
      "text/plain": [
       "<Figure size 432x288 with 1 Axes>"
      ]
     },
     "metadata": {
      "needs_background": "light"
     },
     "output_type": "display_data"
    }
   ],
   "source": [
    "# Age distribution with violin plot\n",
    "sns.violinplot(data = df[(df.Age < 50)], y = \"Type\", x = \"Age\")"
   ]
  },
  {
   "cell_type": "markdown",
   "metadata": {},
   "source": [
    "### Gender"
   ]
  },
  {
   "cell_type": "code",
   "execution_count": 10,
   "metadata": {},
   "outputs": [
    {
     "name": "stdout",
     "output_type": "stream",
     "text": [
      "Gender\n",
      "1    1504\n",
      "2    1878\n",
      "3     590\n",
      "Name: Gender, dtype: int64\n"
     ]
    },
    {
     "data": {
      "image/png": "[encoded data removed]",
      "text/plain": [
       "<Figure size 432x288 with 1 Axes>"
      ]
     },
     "metadata": {},
     "output_type": "display_data"
    }
   ],
   "source": [
    "pie_gender = df.groupby(\"Gender\")[\"Gender\"].count()\n",
    "pie_gender.plot.pie()\n",
    "print(pie_gender)"
   ]
  },
  {
   "cell_type": "markdown",
   "metadata": {},
   "source": [
    "1: Male, 2: female, 3: Mixed"
   ]
  },
  {
   "cell_type": "markdown",
   "metadata": {},
   "source": [
    "Gender_Insight_1 : Majority of pets are female (2)"
   ]
  },
  {
   "cell_type": "markdown",
   "metadata": {},
   "source": [
    "### Maturity size"
   ]
  },
  {
   "cell_type": "code",
   "execution_count": 11,
   "metadata": {},
   "outputs": [
    {
     "name": "stdout",
     "output_type": "stream",
     "text": [
      "MaturitySize\n",
      "1     951\n",
      "2    2674\n",
      "3     344\n",
      "4       3\n",
      "Name: MaturitySize, dtype: int64\n"
     ]
    },
    {
     "data": {
      "image/png": "[encoded data removed]",
      "text/plain": [
       "<Figure size 432x288 with 1 Axes>"
      ]
     },
     "metadata": {},
     "output_type": "display_data"
    }
   ],
   "source": [
    "pie_size = df.groupby(\"MaturitySize\")[\"MaturitySize\"].count()\n",
    "print(pie_size)\n",
    "pie_size.plot.pie();"
   ]
  },
  {
   "cell_type": "markdown",
   "metadata": {},
   "source": [
    "1 = Small, 2 = Medium, 3 = Large, 4 = Extra Large, 0 = Not Specified"
   ]
  },
  {
   "cell_type": "markdown",
   "metadata": {},
   "source": [
    "Size_insight_1: Majority are in medium size"
   ]
  },
  {
   "cell_type": "markdown",
   "metadata": {},
   "source": [
    "Size_insight_2: Because the quantity of extra large animal are small,  we can remove or combine it with category 3."
   ]
  },
  {
   "cell_type": "markdown",
   "metadata": {},
   "source": [
    "### Fur Length"
   ]
  },
  {
   "cell_type": "code",
   "execution_count": 12,
   "metadata": {},
   "outputs": [
    {
     "name": "stdout",
     "output_type": "stream",
     "text": [
      "FurLength\n",
      "1    2408\n",
      "2    1338\n",
      "3     226\n",
      "Name: FurLength, dtype: int64\n"
     ]
    },
    {
     "data": {
      "image/png": "[encoded data removed]",
      "text/plain": [
       "<Figure size 432x288 with 1 Axes>"
      ]
     },
     "metadata": {},
     "output_type": "display_data"
    }
   ],
   "source": [
    "pie_group = df.groupby(\"FurLength\")[\"FurLength\"].count()\n",
    "print(pie_group)\n",
    "pie_group.plot.pie();"
   ]
  },
  {
   "cell_type": "markdown",
   "metadata": {},
   "source": [
    "1 = Short, 2 = Medium, 3 = Long, 0 = Not Specified"
   ]
  },
  {
   "cell_type": "markdown",
   "metadata": {},
   "source": [
    "FurLength_insight_1: Majority has short fur"
   ]
  },
  {
   "cell_type": "markdown",
   "metadata": {},
   "source": [
    "### Quantity"
   ]
  },
  {
   "cell_type": "code",
   "execution_count": 13,
   "metadata": {},
   "outputs": [
    {
     "name": "stdout",
     "output_type": "stream",
     "text": [
      "Quantity\n",
      "1     3058\n",
      "2      356\n",
      "3      199\n",
      "4      137\n",
      "5       97\n",
      "6       63\n",
      "7       31\n",
      "8        9\n",
      "9        6\n",
      "10       4\n",
      "11       3\n",
      "13       1\n",
      "14       2\n",
      "15       2\n",
      "19       1\n",
      "20       3\n",
      "Name: Quantity, dtype: int64\n"
     ]
    }
   ],
   "source": [
    "bar_quantity = df.groupby(\"Quantity\")[\"Quantity\"].count()\n",
    "print(bar_quantity)"
   ]
  },
  {
   "cell_type": "code",
   "execution_count": 14,
   "metadata": {},
   "outputs": [],
   "source": [
    "##visualize with bar plot subplots\n",
    "#fig, ax = plt.subplots()\n",
    "#ax.set_title(\"Number of quantity\")\n",
    "#sns.countplot(data = df,x = \"Quantity\", ax = ax)"
   ]
  },
  {
   "cell_type": "code",
   "execution_count": 15,
   "metadata": {},
   "outputs": [
    {
     "data": {
      "text/plain": [
       "Text(0.5, 1.0, '')"
      ]
     },
     "execution_count": 15,
     "metadata": {},
     "output_type": "execute_result"
    },
    {
     "data": {
      "image/png": "[encoded data removed]",
      "text/plain": [
       "<Figure size 432x288 with 1 Axes>"
      ]
     },
     "metadata": {
      "needs_background": "light"
     },
     "output_type": "display_data"
    }
   ],
   "source": [
    "sns.countplot(data = df, x = \"Quantity\")\n",
    "plt.title(\"Number of Quantity\")"
   ]
  },
  {
   "cell_type": "markdown",
   "metadata": {},
   "source": [
    "Majority_insight_1: Majority pets that are posted is alone"
   ]
  }
 ],
 "metadata": {
  "kernelspec": {
   "display_name": "Python 3",
   "language": "python",
   "name": "python3"
  },
  "language_info": {
   "codemirror_mode": {
    "name": "ipython",
    "version": 3
   },
   "file_extension": ".py",
   "mimetype": "text/x-python",
   "name": "python",
   "nbconvert_exporter": "python",
   "pygments_lexer": "ipython3",
   "version": "3.8.5"
  }
 },
 "nbformat": 4,
 "nbformat_minor": 4
}
